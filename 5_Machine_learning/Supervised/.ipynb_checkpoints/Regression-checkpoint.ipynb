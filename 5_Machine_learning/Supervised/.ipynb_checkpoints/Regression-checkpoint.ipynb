{
 "cells": [
  {
   "cell_type": "code",
   "execution_count": 1,
   "metadata": {},
   "outputs": [
    {
     "name": "stdout",
     "output_type": "stream",
     "text": [
      "Populating the interactive namespace from numpy and matplotlib\n"
     ]
    }
   ],
   "source": [
    "import pandas as pd\n",
    "import numpy as np\n",
    "import matplotlib.pyplot as plt\n",
    "%pylab inline\n",
    "plt.style.use('seaborn')\n",
    "\n",
    "from sklearn.datasets import load_boston"
   ]
  },
  {
   "cell_type": "markdown",
   "metadata": {},
   "source": [
    "### Load our dataset"
   ]
  },
  {
   "cell_type": "code",
   "execution_count": 2,
   "metadata": {},
   "outputs": [],
   "source": [
    "boston = load_boston()"
   ]
  },
  {
   "cell_type": "code",
   "execution_count": 3,
   "metadata": {},
   "outputs": [
    {
     "data": {
      "text/html": [
       "<div>\n",
       "<style scoped>\n",
       "    .dataframe tbody tr th:only-of-type {\n",
       "        vertical-align: middle;\n",
       "    }\n",
       "\n",
       "    .dataframe tbody tr th {\n",
       "        vertical-align: top;\n",
       "    }\n",
       "\n",
       "    .dataframe thead th {\n",
       "        text-align: right;\n",
       "    }\n",
       "</style>\n",
       "<table border=\"1\" class=\"dataframe\">\n",
       "  <thead>\n",
       "    <tr style=\"text-align: right;\">\n",
       "      <th></th>\n",
       "      <th>0</th>\n",
       "      <th>1</th>\n",
       "      <th>2</th>\n",
       "      <th>3</th>\n",
       "      <th>4</th>\n",
       "      <th>5</th>\n",
       "      <th>6</th>\n",
       "      <th>7</th>\n",
       "      <th>8</th>\n",
       "      <th>9</th>\n",
       "      <th>10</th>\n",
       "      <th>11</th>\n",
       "      <th>12</th>\n",
       "      <th>13</th>\n",
       "    </tr>\n",
       "  </thead>\n",
       "  <tbody>\n",
       "    <tr>\n",
       "      <th>0</th>\n",
       "      <td>0.00632</td>\n",
       "      <td>18.0</td>\n",
       "      <td>2.31</td>\n",
       "      <td>0.0</td>\n",
       "      <td>0.538</td>\n",
       "      <td>6.575</td>\n",
       "      <td>65.2</td>\n",
       "      <td>4.0900</td>\n",
       "      <td>1.0</td>\n",
       "      <td>296.0</td>\n",
       "      <td>15.3</td>\n",
       "      <td>396.90</td>\n",
       "      <td>4.98</td>\n",
       "      <td>24.0</td>\n",
       "    </tr>\n",
       "    <tr>\n",
       "      <th>1</th>\n",
       "      <td>0.02731</td>\n",
       "      <td>0.0</td>\n",
       "      <td>7.07</td>\n",
       "      <td>0.0</td>\n",
       "      <td>0.469</td>\n",
       "      <td>6.421</td>\n",
       "      <td>78.9</td>\n",
       "      <td>4.9671</td>\n",
       "      <td>2.0</td>\n",
       "      <td>242.0</td>\n",
       "      <td>17.8</td>\n",
       "      <td>396.90</td>\n",
       "      <td>9.14</td>\n",
       "      <td>21.6</td>\n",
       "    </tr>\n",
       "    <tr>\n",
       "      <th>2</th>\n",
       "      <td>0.02729</td>\n",
       "      <td>0.0</td>\n",
       "      <td>7.07</td>\n",
       "      <td>0.0</td>\n",
       "      <td>0.469</td>\n",
       "      <td>7.185</td>\n",
       "      <td>61.1</td>\n",
       "      <td>4.9671</td>\n",
       "      <td>2.0</td>\n",
       "      <td>242.0</td>\n",
       "      <td>17.8</td>\n",
       "      <td>392.83</td>\n",
       "      <td>4.03</td>\n",
       "      <td>34.7</td>\n",
       "    </tr>\n",
       "    <tr>\n",
       "      <th>3</th>\n",
       "      <td>0.03237</td>\n",
       "      <td>0.0</td>\n",
       "      <td>2.18</td>\n",
       "      <td>0.0</td>\n",
       "      <td>0.458</td>\n",
       "      <td>6.998</td>\n",
       "      <td>45.8</td>\n",
       "      <td>6.0622</td>\n",
       "      <td>3.0</td>\n",
       "      <td>222.0</td>\n",
       "      <td>18.7</td>\n",
       "      <td>394.63</td>\n",
       "      <td>2.94</td>\n",
       "      <td>33.4</td>\n",
       "    </tr>\n",
       "    <tr>\n",
       "      <th>4</th>\n",
       "      <td>0.06905</td>\n",
       "      <td>0.0</td>\n",
       "      <td>2.18</td>\n",
       "      <td>0.0</td>\n",
       "      <td>0.458</td>\n",
       "      <td>7.147</td>\n",
       "      <td>54.2</td>\n",
       "      <td>6.0622</td>\n",
       "      <td>3.0</td>\n",
       "      <td>222.0</td>\n",
       "      <td>18.7</td>\n",
       "      <td>396.90</td>\n",
       "      <td>5.33</td>\n",
       "      <td>36.2</td>\n",
       "    </tr>\n",
       "  </tbody>\n",
       "</table>\n",
       "</div>"
      ],
      "text/plain": [
       "         0     1     2    3      4      5     6       7    8      9    10  \\\n",
       "0  0.00632  18.0  2.31  0.0  0.538  6.575  65.2  4.0900  1.0  296.0  15.3   \n",
       "1  0.02731   0.0  7.07  0.0  0.469  6.421  78.9  4.9671  2.0  242.0  17.8   \n",
       "2  0.02729   0.0  7.07  0.0  0.469  7.185  61.1  4.9671  2.0  242.0  17.8   \n",
       "3  0.03237   0.0  2.18  0.0  0.458  6.998  45.8  6.0622  3.0  222.0  18.7   \n",
       "4  0.06905   0.0  2.18  0.0  0.458  7.147  54.2  6.0622  3.0  222.0  18.7   \n",
       "\n",
       "       11    12    13  \n",
       "0  396.90  4.98  24.0  \n",
       "1  396.90  9.14  21.6  \n",
       "2  392.83  4.03  34.7  \n",
       "3  394.63  2.94  33.4  \n",
       "4  396.90  5.33  36.2  "
      ]
     },
     "execution_count": 3,
     "metadata": {},
     "output_type": "execute_result"
    }
   ],
   "source": [
    "all_data = pd.concat([pd.DataFrame(boston.data), pd.DataFrame(boston.target, columns=['13'])], axis=1)\n",
    "all_data.head()"
   ]
  },
  {
   "cell_type": "code",
   "execution_count": 4,
   "metadata": {},
   "outputs": [],
   "source": [
    "all_names = np.concatenate([boston.feature_names, np.array(['MEDV'])])\n",
    "all_names\n",
    "all_data.columns = all_names.tolist()"
   ]
  },
  {
   "cell_type": "code",
   "execution_count": 5,
   "metadata": {},
   "outputs": [],
   "source": [
    "data = all_data.copy()"
   ]
  },
  {
   "cell_type": "code",
   "execution_count": 6,
   "metadata": {},
   "outputs": [],
   "source": [
    "X = data.drop(['MEDV'], axis=1)\n",
    "y = data['MEDV']"
   ]
  },
  {
   "cell_type": "code",
   "execution_count": 7,
   "metadata": {},
   "outputs": [],
   "source": [
    "# Train-Test split\n",
    "from sklearn.model_selection import train_test_split\n",
    "\n",
    "X_train, X_test, y_train, y_test = train_test_split(X, y, test_size=0.2)"
   ]
  },
  {
   "cell_type": "markdown",
   "metadata": {},
   "source": [
    "___\n",
    "# Linear Models"
   ]
  },
  {
   "cell_type": "markdown",
   "metadata": {},
   "source": [
    "## Linear Regression (Ordinary Least-Squares)"
   ]
  },
  {
   "cell_type": "code",
   "execution_count": 8,
   "metadata": {},
   "outputs": [],
   "source": [
    "# Load the library\n",
    "from sklearn.linear_model import LinearRegression"
   ]
  },
  {
   "cell_type": "code",
   "execution_count": 9,
   "metadata": {},
   "outputs": [],
   "source": [
    "# Create an instance of the model\n",
    "LR = LinearRegression()"
   ]
  },
  {
   "cell_type": "code",
   "execution_count": 10,
   "metadata": {},
   "outputs": [
    {
     "data": {
      "text/plain": [
       "LinearRegression()"
      ]
     },
     "execution_count": 10,
     "metadata": {},
     "output_type": "execute_result"
    }
   ],
   "source": [
    "# Fit the regressor\n",
    "LR.fit(X_train, y_train)"
   ]
  },
  {
   "cell_type": "code",
   "execution_count": 11,
   "metadata": {},
   "outputs": [
    {
     "data": {
      "text/plain": [
       "array([32.65664669, 22.98363018, 23.02523872, 23.40401465,  7.07507757])"
      ]
     },
     "execution_count": 11,
     "metadata": {},
     "output_type": "execute_result"
    }
   ],
   "source": [
    "# Do_predictions\n",
    "predictions = LR.predict(X_test)\n",
    "predictions[:5]"
   ]
  },
  {
   "cell_type": "code",
   "execution_count": 12,
   "metadata": {},
   "outputs": [
    {
     "data": {
      "text/plain": [
       "304    36.1\n",
       "371    50.0\n",
       "63     25.0\n",
       "372    50.0\n",
       "417    10.4\n",
       "Name: MEDV, dtype: float64"
      ]
     },
     "execution_count": 12,
     "metadata": {},
     "output_type": "execute_result"
    }
   ],
   "source": [
    "y_test[:5]"
   ]
  },
  {
   "cell_type": "code",
   "execution_count": 13,
   "metadata": {},
   "outputs": [
    {
     "data": {
      "text/plain": [
       "array([-9.75820597e-02,  4.22716924e-02,  8.15700545e-02,  2.16178501e+00,\n",
       "       -1.70231332e+01,  4.28970749e+00, -1.03626941e-02, -1.24235980e+00,\n",
       "        2.44575740e-01, -1.25381013e-02, -1.01340501e+00,  8.93283712e-03,\n",
       "       -4.05279656e-01])"
      ]
     },
     "execution_count": 13,
     "metadata": {},
     "output_type": "execute_result"
    }
   ],
   "source": [
    "# Parámetros de la ecuación --> B_1, B_2, ... , B_13\n",
    "LR.coef_"
   ]
  },
  {
   "cell_type": "code",
   "execution_count": 14,
   "metadata": {},
   "outputs": [
    {
     "data": {
      "text/plain": [
       "32.51650225278478"
      ]
     },
     "execution_count": 14,
     "metadata": {},
     "output_type": "execute_result"
    }
   ],
   "source": [
    "# término independiente B_0\n",
    "LR.intercept_"
   ]
  },
  {
   "cell_type": "markdown",
   "metadata": {},
   "source": [
    "El método *.score()* devuelve la **métrica $R^2$**. *Cuánto más se acerca a **1** mejor será la predicción de nuestro modelo.*"
   ]
  },
  {
   "cell_type": "code",
   "execution_count": 15,
   "metadata": {},
   "outputs": [
    {
     "data": {
      "text/plain": [
       "0.6627606213363317"
      ]
     },
     "execution_count": 15,
     "metadata": {},
     "output_type": "execute_result"
    }
   ],
   "source": [
    "# Precision del algoritmo\n",
    "LR.score(X_test, y_test)"
   ]
  },
  {
   "cell_type": "markdown",
   "metadata": {},
   "source": [
    "> ### How sensitive are predictions to train-test split."
   ]
  },
  {
   "cell_type": "code",
   "execution_count": 16,
   "metadata": {},
   "outputs": [],
   "source": [
    "def split_sensitivity():\n",
    "    \"\"\"\n",
    "    It plots all scores from both test and train datasets, given different train sizes.\n",
    "    It's just pure curiosity.\n",
    "    It takes no arguments.\n",
    "    \"\"\"\n",
    "    \n",
    "    proportions = [0.2, 0.3, 0.4, 0.5, 0.6, 0.7, 0.8, 0.9]\n",
    "    test_scores = []\n",
    "    train_scores = []\n",
    "    \n",
    "    for train_size in proportions:\n",
    "        \n",
    "        X_train, X_test, y_train, y_test = train_test_split(X, y, test_size=1-train_size)\n",
    "        LR = LinearRegression()\n",
    "        LR.fit(X_train, y_train)\n",
    "        test_score = LR.score(X_test, y_test)\n",
    "        train_score = LR.score(X_train, y_train)\n",
    "        test_scores.append(test_score)\n",
    "        train_scores.append(train_score)\n",
    "    \n",
    "    plt.plot(proportions, test_scores, label='Test scores')\n",
    "    plt.plot(proportions, train_scores, label='Train scores', c='r')\n",
    "    plt.xlabel('Train sizes')\n",
    "    plt.ylabel('Scores (R^2)')\n",
    "    plt.title('Train-test split ')\n",
    "\n",
    "    plt.legend()"
   ]
  },
  {
   "cell_type": "code",
   "execution_count": 17,
   "metadata": {},
   "outputs": [
    {
     "data": {
      "image/png": "[encoded data removed]",
      "text/plain": [
       "<Figure size 432x288 with 1 Axes>"
      ]
     },
     "metadata": {
      "needs_background": "light"
     },
     "output_type": "display_data"
    }
   ],
   "source": [
    "split_sensitivity()"
   ]
  },
  {
   "cell_type": "markdown",
   "metadata": {},
   "source": [
    "## Ridge Regression"
   ]
  },
  {
   "cell_type": "markdown",
   "metadata": {},
   "source": [
    "Ridge regression uses the same formula as Ordinary Least-Squares just adding an *alpha* parameter. This parameter is going to restrict the value of the coefficients and it will result in a lower slope.<br>\n",
    "The *alpha* parameter penalty is called **Regularization** and it prevents overfitting and reduces the model complexity. <br>\n",
    "Higher $\\alpha$ means more Regularization and simpler model. <br>\n",
    "The closer *alpha* is to 0, the closer Ridge Regression is to Linear Regression."
   ]
  },
  {
   "cell_type": "code",
   "execution_count": 18,
   "metadata": {},
   "outputs": [],
   "source": [
    "# Load the library\n",
    "from sklearn.linear_model import Ridge"
   ]
  },
  {
   "cell_type": "code",
   "execution_count": 19,
   "metadata": {},
   "outputs": [],
   "source": [
    "# Create an instance of the model and fit the regressor\n",
    "ridge = Ridge().fit(X_train, y_train)"
   ]
  },
  {
   "cell_type": "markdown",
   "metadata": {},
   "source": [
    "Scores given different *alphas*"
   ]
  },
  {
   "cell_type": "code",
   "execution_count": 20,
   "metadata": {},
   "outputs": [
    {
     "name": "stdout",
     "output_type": "stream",
     "text": [
      "Ridge Regression. Alpha = 1\n",
      "\tTest score: 0.66\n",
      "\tTrain score: 0.75\n",
      "Ridge Regression. Alpha = 0.1\n",
      "\tTest score: 0.66\n",
      "\tTrain score: 0.76\n",
      "Ridge Regression. Alpha = 10\n",
      "\tTest score: 0.65\n",
      "\tTrain score: 0.75\n"
     ]
    }
   ],
   "source": [
    "ridge01 = Ridge(alpha=0.1).fit(X_train, y_train)\n",
    "ridge10 = Ridge(alpha=10).fit(X_train, y_train)\n",
    "\n",
    "print('Ridge Regression. Alpha = 1')\n",
    "print(f'\\tTest score: {round(ridge.score(X_test, y_test), 2)}')\n",
    "print(f'\\tTrain score: {round(ridge.score(X_train, y_train), 2)}')\n",
    "\n",
    "print('Ridge Regression. Alpha = 0.1')\n",
    "print(f'\\tTest score: {round(ridge01.score(X_test, y_test), 2)}')\n",
    "print(f'\\tTrain score: {round(ridge01.score(X_train, y_train), 2)}')\n",
    "\n",
    "print('Ridge Regression. Alpha = 10')\n",
    "print(f'\\tTest score: {round(ridge10.score(X_test, y_test), 2)}')\n",
    "print(f'\\tTrain score: {round(ridge10.score(X_train, y_train), 2)}')"
   ]
  },
  {
   "cell_type": "code",
   "execution_count": 21,
   "metadata": {},
   "outputs": [
    {
     "name": "stdout",
     "output_type": "stream",
     "text": [
      "Linear Regression\n",
      "\tTest score: 0.66\n",
      "\tTrain score: 0.76\n"
     ]
    }
   ],
   "source": [
    "print('Linear Regression')\n",
    "print(f'\\tTest score: {round(LR.score(X_test, y_test), 2)}')\n",
    "print(f'\\tTrain score: {round(LR.score(X_train, y_train), 2)}')"
   ]
  },
  {
   "cell_type": "markdown",
   "metadata": {},
   "source": [
    "## Lasso Regression"
   ]
  },
  {
   "cell_type": "markdown",
   "metadata": {},
   "source": [
    "When using *Lasso* it also restricts coefficients to be close to zero by estimate them as **zero.** <br>\n",
    "Higher values of *alpha parameter* will result in less restriction."
   ]
  },
  {
   "cell_type": "code",
   "execution_count": 22,
   "metadata": {},
   "outputs": [],
   "source": [
    "from sklearn.linear_model import Lasso"
   ]
  },
  {
   "cell_type": "code",
   "execution_count": 23,
   "metadata": {},
   "outputs": [],
   "source": [
    "lasso = Lasso(alpha=1).fit(X_train, y_train)"
   ]
  },
  {
   "cell_type": "code",
   "execution_count": 24,
   "metadata": {},
   "outputs": [
    {
     "name": "stdout",
     "output_type": "stream",
     "text": [
      "Lasso test score: 0.6\n",
      "Lasso train score: 0.69\n"
     ]
    },
    {
     "data": {
      "text/plain": [
       "10"
      ]
     },
     "execution_count": 24,
     "metadata": {},
     "output_type": "execute_result"
    }
   ],
   "source": [
    "print(f'Lasso test score: {round(lasso.score(X_test, y_test), 2)}')\n",
    "print(f'Lasso train score: {round(lasso.score(X_train, y_train), 2)}')\n",
    "np.sum(lasso.coef_ != 0)"
   ]
  },
  {
   "cell_type": "code",
   "execution_count": 25,
   "metadata": {},
   "outputs": [
    {
     "name": "stdout",
     "output_type": "stream",
     "text": [
      "Lasso alpha=0.1 test score: 0.64\n",
      "Lasso alpha=0.1 train score: 0.74\n"
     ]
    },
    {
     "data": {
      "text/plain": [
       "12"
      ]
     },
     "execution_count": 25,
     "metadata": {},
     "output_type": "execute_result"
    }
   ],
   "source": [
    "lasso01 = Lasso(0.1).fit(X_train, y_train)\n",
    "print(f'Lasso alpha=0.1 test score: {round(lasso01.score(X_test, y_test), 2)}')\n",
    "print(f'Lasso alpha=0.1 train score: {round(lasso01.score(X_train, y_train), 2)}')\n",
    "np.sum(lasso01.coef_ != 0)"
   ]
  },
  {
   "cell_type": "markdown",
   "metadata": {},
   "source": [
    "# Feature Normalization\n",
    "**Importance of using Feature Normalization:** Cuando usamos *Ridge* y *Lasso* estamos  minimizando los coeficientes de nuestra regresión linal y así simplificar el modelo. Si los coeficientes no están en la misma escala los unos con los otros esta regularización no va a ser tan eficiente. <br>\n",
    "Therefore it is necessary to scale our features before applying these *Regularizations* with linear models. <br>\n",
    "Here, `MinMaxScaler` is what we are looking for."
   ]
  },
  {
   "cell_type": "code",
   "execution_count": 26,
   "metadata": {},
   "outputs": [],
   "source": [
    "from sklearn.preprocessing import MinMaxScaler\n",
    "\n",
    "scaler = MinMaxScaler().fit(X_train)\n",
    "\n",
    "X_train_scaled = scaler.transform(X_train)\n",
    "X_test_scaled = scaler.transform(X_test)"
   ]
  },
  {
   "cell_type": "markdown",
   "metadata": {},
   "source": [
    "* Only transform the features (X_train & X_test)\n",
    "* Fit the scaler using the training set. Then, use it to transform both train and test sets.\n",
    "* Do not scale training & test sets using different scalers\n",
    "* Do not fit the scaler using test data. This could lead to *data leakage*"
   ]
  },
  {
   "cell_type": "code",
   "execution_count": 27,
   "metadata": {},
   "outputs": [
    {
     "name": "stdout",
     "output_type": "stream",
     "text": [
      "Scaled Ridge test score: 0.65\n",
      "Scaled Ridge train score: 0.75\n"
     ]
    }
   ],
   "source": [
    "ridge_scaled = Ridge().fit(X_train_scaled, y_train)\n",
    "\n",
    "print(f'Scaled Ridge test score: {round(ridge_scaled.score(X_test_scaled, y_test), 2)}')\n",
    "print(f'Scaled Ridge train score: {round(ridge_scaled.score(X_train_scaled, y_train), 2)}')"
   ]
  },
  {
   "cell_type": "code",
   "execution_count": 28,
   "metadata": {},
   "outputs": [
    {
     "name": "stdout",
     "output_type": "stream",
     "text": [
      "Scaled Lasso test score: 0.58\n",
      "Scaled Lasso train score: 0.71\n"
     ]
    },
    {
     "data": {
      "text/plain": [
       "7"
      ]
     },
     "execution_count": 28,
     "metadata": {},
     "output_type": "execute_result"
    }
   ],
   "source": [
    "lasso_scaled = Lasso(0.1).fit(X_train_scaled, y_train)\n",
    "\n",
    "print(f'Scaled Lasso test score: {round(lasso_scaled.score(X_test_scaled, y_test), 2)}')\n",
    "print(f'Scaled Lasso train score: {round(lasso_scaled.score(X_train_scaled, y_train), 2)}')\n",
    "np.sum(lasso_scaled.coef_ != 0)"
   ]
  },
  {
   "cell_type": "markdown",
   "metadata": {},
   "source": [
    "In general, lasso regression is most helpful if you think there are only a few variables that have a medium or large effect on the output variable. Otherwise if there are lots of variables that contribute small or medium effects, ridge regression is typically the better choice."
   ]
  },
  {
   "cell_type": "markdown",
   "metadata": {},
   "source": [
    "> ### Plotting coefficients"
   ]
  },
  {
   "cell_type": "code",
   "execution_count": 29,
   "metadata": {},
   "outputs": [
    {
     "data": {
      "text/plain": [
       "<matplotlib.legend.Legend at 0x2158a59bdc8>"
      ]
     },
     "execution_count": 29,
     "metadata": {},
     "output_type": "execute_result"
    },
    {
     "data": {
      "image/png": "[encoded data removed]",
      "text/plain": [
       "<Figure size 720x432 with 1 Axes>"
      ]
     },
     "metadata": {
      "needs_background": "light"
     },
     "output_type": "display_data"
    }
   ],
   "source": [
    "plt.figure(figsize=(10, 6))\n",
    "\n",
    "plt.plot(ridge.coef_, 's', label='Ridge alpha=1')\n",
    "# plt.plot(ridge01.coef_, '^', label='Ridge alpha=0.1')\n",
    "# plt.plot(ridge10.coef_, 'v', label='Ridge alpha=10')\n",
    "plt.plot(lasso_scaled.coef_, '^', label='Scaled Lasso alpha=1')\n",
    "plt.plot(LR.coef_, 'o', label='Linear Regression')\n",
    "\n",
    "plt.xlabel('Coefficient index')\n",
    "plt.ylabel('Coefficient magnitude')\n",
    "plt.hlines(0, 0, len(LR.coef_))\n",
    "\n",
    "plt.legend()"
   ]
  },
  {
   "cell_type": "code",
   "execution_count": 30,
   "metadata": {},
   "outputs": [],
   "source": [
    "def scores_dataframe():\n",
    "    \"\"\"It returns a DataFrame with both test and train scores, sorted by 'test score'.\"\"\"\n",
    "    dic_scores = {\n",
    "        'model': [\n",
    "            'Linear Regression',\n",
    "            'Ridge alpha=1',\n",
    "            'Ridge alpha=0.1',\n",
    "            'Ridge alpha=10',\n",
    "            'Lasso alpha=1',\n",
    "            'Lasso alpha=0.1',\n",
    "            'Scaled Ridge alpha=1',\n",
    "            'Scaled Lasso alpha=0.1'\n",
    "        ],\n",
    "        'test_scores': [\n",
    "            LR.score(X_test, y_test),\n",
    "            ridge.score(X_test, y_test),\n",
    "            ridge01.score(X_test, y_test),\n",
    "            ridge10.score(X_test, y_test),\n",
    "            lasso.score(X_test, y_test),\n",
    "            lasso01.score(X_test, y_test),\n",
    "            ridge_scaled.score(X_test_scaled, y_test),\n",
    "            lasso_scaled.score(X_test_scaled, y_test)\n",
    "        ],\n",
    "        'train_scores': [\n",
    "            LR.score(X_train, y_train),\n",
    "            ridge.score(X_train, y_train),\n",
    "            ridge01.score(X_train, y_train),\n",
    "            ridge10.score(X_train, y_train),\n",
    "            lasso.score(X_train, y_train),\n",
    "            lasso01.score(X_train, y_train),\n",
    "            ridge_scaled.score(X_train_scaled, y_train),\n",
    "            lasso_scaled.score(X_train_scaled, y_train)\n",
    "        ]\n",
    "    }\n",
    "    \n",
    "    return pd.DataFrame(dic_scores).sort_values(by='test_scores', ascending=False)"
   ]
  },
  {
   "cell_type": "code",
   "execution_count": 66,
   "metadata": {},
   "outputs": [],
   "source": [
    "def linear_models_scores(dataframe):\n",
    "    \"\"\"It generates a bar plot with all linear scores in this notebook, sorted.\"\"\"\n",
    "    \n",
    "    scores_df = dataframe\n",
    "    \n",
    "    # Plots everything out\n",
    "    fig, (ax_test, ax_train) = plt.subplots(1, 2, figsize=(10, 4.5))\n",
    "    \n",
    "    ax_test.barh(scores_df['model'], scores_df['test_scores'])\n",
    "    ax_test.set_title('Test Scores')\n",
    "\n",
    "    ax_train.barh(scores_df['model'], scores_df['train_scores'])\n",
    "    ax_train.set_title('Train Scores')\n",
    "\n",
    "    fig.suptitle('Linear Models')"
   ]
  },
  {
   "cell_type": "code",
   "execution_count": 67,
   "metadata": {},
   "outputs": [
    {
     "data": {
      "image/png": "[encoded data removed]",
      "text/plain": [
       "<Figure size 720x324 with 2 Axes>"
      ]
     },
     "metadata": {
      "needs_background": "light"
     },
     "output_type": "display_data"
    }
   ],
   "source": [
    "linear_models_scores(scores_dataframe())"
   ]
  },
  {
   "cell_type": "markdown",
   "metadata": {},
   "source": [
    "### Homemade Metric"
   ]
  },
  {
   "cell_type": "code",
   "execution_count": 36,
   "metadata": {},
   "outputs": [
    {
     "data": {
      "text/html": [
       "<div>\n",
       "<style scoped>\n",
       "    .dataframe tbody tr th:only-of-type {\n",
       "        vertical-align: middle;\n",
       "    }\n",
       "\n",
       "    .dataframe tbody tr th {\n",
       "        vertical-align: top;\n",
       "    }\n",
       "\n",
       "    .dataframe thead th {\n",
       "        text-align: right;\n",
       "    }\n",
       "</style>\n",
       "<table border=\"1\" class=\"dataframe\">\n",
       "  <thead>\n",
       "    <tr style=\"text-align: right;\">\n",
       "      <th></th>\n",
       "      <th>model</th>\n",
       "      <th>test_scores</th>\n",
       "      <th>train_scores</th>\n",
       "    </tr>\n",
       "  </thead>\n",
       "  <tbody>\n",
       "    <tr>\n",
       "      <th>0</th>\n",
       "      <td>Linear Regression</td>\n",
       "      <td>0.662761</td>\n",
       "      <td>0.756116</td>\n",
       "    </tr>\n",
       "    <tr>\n",
       "      <th>2</th>\n",
       "      <td>Ridge alpha=0.1</td>\n",
       "      <td>0.662440</td>\n",
       "      <td>0.756052</td>\n",
       "    </tr>\n",
       "    <tr>\n",
       "      <th>1</th>\n",
       "      <td>Ridge alpha=1</td>\n",
       "      <td>0.659372</td>\n",
       "      <td>0.753849</td>\n",
       "    </tr>\n",
       "    <tr>\n",
       "      <th>3</th>\n",
       "      <td>Ridge alpha=10</td>\n",
       "      <td>0.653741</td>\n",
       "      <td>0.746509</td>\n",
       "    </tr>\n",
       "    <tr>\n",
       "      <th>6</th>\n",
       "      <td>Scaled Ridge alpha=1</td>\n",
       "      <td>0.647064</td>\n",
       "      <td>0.752416</td>\n",
       "    </tr>\n",
       "    <tr>\n",
       "      <th>5</th>\n",
       "      <td>Lasso alpha=0.1</td>\n",
       "      <td>0.644169</td>\n",
       "      <td>0.742446</td>\n",
       "    </tr>\n",
       "    <tr>\n",
       "      <th>4</th>\n",
       "      <td>Lasso alpha=1</td>\n",
       "      <td>0.603576</td>\n",
       "      <td>0.693069</td>\n",
       "    </tr>\n",
       "    <tr>\n",
       "      <th>7</th>\n",
       "      <td>Scaled Lasso alpha=0.1</td>\n",
       "      <td>0.577068</td>\n",
       "      <td>0.711035</td>\n",
       "    </tr>\n",
       "  </tbody>\n",
       "</table>\n",
       "</div>"
      ],
      "text/plain": [
       "                    model  test_scores  train_scores\n",
       "0       Linear Regression     0.662761      0.756116\n",
       "2         Ridge alpha=0.1     0.662440      0.756052\n",
       "1           Ridge alpha=1     0.659372      0.753849\n",
       "3          Ridge alpha=10     0.653741      0.746509\n",
       "6    Scaled Ridge alpha=1     0.647064      0.752416\n",
       "5         Lasso alpha=0.1     0.644169      0.742446\n",
       "4           Lasso alpha=1     0.603576      0.693069\n",
       "7  Scaled Lasso alpha=0.1     0.577068      0.711035"
      ]
     },
     "execution_count": 36,
     "metadata": {},
     "output_type": "execute_result"
    }
   ],
   "source": [
    "score_df = scores_dataframe()\n",
    "score_df"
   ]
  },
  {
   "cell_type": "code",
   "execution_count": 37,
   "metadata": {},
   "outputs": [],
   "source": [
    "# Returns test & train scores from all linear models\n",
    "\n",
    "def linear_regression_scores(X_train, X_test, y_train, y_test):\n",
    "    \n",
    "    LR = LinearRegression().fit(X_train, y_train)\n",
    "    return (LR.score(X_test, y_test), LR.score(X_train, y_train))\n",
    "\n",
    "def ridge_scores(X_train, X_test, y_train, y_test):\n",
    "    \n",
    "    ridge = Ridge().fit(X_train, y_train)\n",
    "    return (ridge.score(X_test, y_test), ridge.score(X_train, y_train))\n",
    "\n",
    "def ridge_01_scores(X_train, X_test, y_train, y_test):\n",
    "    \n",
    "    ridge_01 = Ridge(alpha=0.1).fit(X_train, y_train)\n",
    "    return (ridge_01.score(X_test, y_test), ridge_01.score(X_train, y_train))\n",
    "\n",
    "def ridge_10_scores(X_train, X_test, y_train, y_test):\n",
    "    \n",
    "    ridge_10 = Ridge(alpha=10).fit(X_train, y_train)\n",
    "    return (ridge_10.score(X_test, y_test), ridge_10.score(X_train, y_train))\n",
    "\n",
    "def lasso_scores(X_train, X_test, y_train, y_test):\n",
    "    \n",
    "    lasso = Lasso(alpha=1).fit(X_train, y_train)\n",
    "    return (lasso.score(X_test, y_test), lasso.score(X_train, y_train))\n",
    "\n",
    "def lasso_01_scores(X_train, X_test, y_train, y_test):\n",
    "    \n",
    "    lasso_01 = Lasso(alpha=0.1).fit(X_train, y_train)\n",
    "    return (lasso_01.score(X_test, y_test), lasso_01.score(X_train, y_train))\n",
    "\n",
    "def scaled_ridge_scores(X_train, X_test, y_train, y_test):\n",
    "    \n",
    "    # Scaling sets\n",
    "    scaler = MinMaxScaler().fit(X_train)\n",
    "    X_train_scaled = scaler.transform(X_train)\n",
    "    X_test_scaled = scaler.transform(X_test)\n",
    "    \n",
    "    scaled_ridge = Ridge().fit(X_train_scaled, y_train)\n",
    "    return (scaled_ridge.score(X_test_scaled, y_test), scaled_ridge.score(X_train_scaled, y_train))\n",
    "\n",
    "def scaled_lasso_scores(X_train, X_test, y_train, y_test):\n",
    "    \n",
    "    # Scaling sets\n",
    "    scaler = MinMaxScaler().fit(X_train)\n",
    "    X_train_scaled = scaler.transform(X_train)\n",
    "    X_test_scaled = scaler.transform(X_test)\n",
    "    \n",
    "    scaled_lasso = Lasso(0.1).fit(X_train_scaled, y_train)\n",
    "    return (scaled_lasso.score(X_test_scaled, y_test), scaled_lasso.score(X_train_scaled, y_train))"
   ]
  },
  {
   "cell_type": "code",
   "execution_count": 38,
   "metadata": {},
   "outputs": [
    {
     "data": {
      "text/plain": [
       "(0.6593723773271802, 0.7538486597882252)"
      ]
     },
     "execution_count": 38,
     "metadata": {},
     "output_type": "execute_result"
    }
   ],
   "source": [
    "ridge_scores(X_train, X_test, y_train, y_test)"
   ]
  },
  {
   "cell_type": "code",
   "execution_count": 39,
   "metadata": {},
   "outputs": [],
   "source": [
    "def homemade_metric(n):\n",
    "    \n",
    "    for i in range(n):\n",
    "    \n",
    "        # Splitting sets up\n",
    "        X_train, X_test, y_train, y_test = train_test_split(X, y, test_size=0.2)\n",
    "\n",
    "        # Getting the scores\n",
    "        LR_test, LR_train = linear_regression_scores(X_train, X_test, y_train, y_test)\n",
    "        ridge_1_test, ridge_1_train = ridge_scores(X_train, X_test, y_train, y_test)\n",
    "        ridge_01_test, ridge_01_train = ridge_01_scores(X_train, X_test, y_train, y_test)\n",
    "        ridge_10_test, ridge_10_train = ridge_10_scores(X_train, X_test, y_train, y_test)\n",
    "        lasso_1_test, lasso_1_train = lasso_scores(X_train, X_test, y_train, y_test)\n",
    "        lasso_01_test, lasso_01_train = lasso_01_scores(X_train, X_test, y_train, y_test)\n",
    "        \n",
    "        # Generating DF\n",
    "    pass"
   ]
  },
  {
   "cell_type": "code",
   "execution_count": null,
   "metadata": {},
   "outputs": [],
   "source": []
  },
  {
   "cell_type": "markdown",
   "metadata": {},
   "source": [
    "___\n",
    "\n",
    "# K nearest Neighbors"
   ]
  },
  {
   "cell_type": "code",
   "execution_count": 74,
   "metadata": {},
   "outputs": [],
   "source": [
    "# We already split our train & test sets\n",
    "from sklearn.neighbors import KNeighborsRegressor\n",
    "\n",
    "knn = KNeighborsRegressor(3).fit(X_train, y_train)"
   ]
  },
  {
   "cell_type": "code",
   "execution_count": 75,
   "metadata": {},
   "outputs": [
    {
     "data": {
      "text/plain": [
       "(0.559470490549004, 0.7361875665291122)"
      ]
     },
     "execution_count": 75,
     "metadata": {},
     "output_type": "execute_result"
    }
   ],
   "source": [
    "knn.score(X_test, y_test), knn.score(X_train, y_train)"
   ]
  },
  {
   "cell_type": "code",
   "execution_count": null,
   "metadata": {},
   "outputs": [],
   "source": []
  },
  {
   "cell_type": "code",
   "execution_count": null,
   "metadata": {},
   "outputs": [],
   "source": []
  },
  {
   "cell_type": "code",
   "execution_count": null,
   "metadata": {},
   "outputs": [],
   "source": []
  }
 ],
 "metadata": {
  "kernelspec": {
   "display_name": "Python 3",
   "language": "python",
   "name": "python3"
  },
  "language_info": {
   "codemirror_mode": {
    "name": "ipython",
    "version": 3
   },
   "file_extension": ".py",
   "mimetype": "text/x-python",
   "name": "python",
   "nbconvert_exporter": "python",
   "pygments_lexer": "ipython3",
   "version": "3.7.4"
  }
 },
 "nbformat": 4,
 "nbformat_minor": 2
}
