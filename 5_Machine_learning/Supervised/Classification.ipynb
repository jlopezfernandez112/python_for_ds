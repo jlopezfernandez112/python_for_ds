{
 "cells": [
  {
   "cell_type": "code",
   "execution_count": 1,
   "metadata": {},
   "outputs": [
    {
     "name": "stdout",
     "output_type": "stream",
     "text": [
      "Populating the interactive namespace from numpy and matplotlib\n"
     ]
    }
   ],
   "source": [
    "import pandas as pd\n",
    "import numpy as np\n",
    "import matplotlib.pyplot as plt\n",
    "%pylab inline\n",
    "plt.style.use('seaborn')\n",
    "\n",
    "\n",
    "from sklearn.datasets import load_iris, load_digits"
   ]
  },
  {
   "cell_type": "markdown",
   "metadata": {},
   "source": [
    "### Load our dataset"
   ]
  },
  {
   "cell_type": "code",
   "execution_count": 2,
   "metadata": {},
   "outputs": [],
   "source": [
    "iris = load_iris(as_frame=True)\n",
    "\n",
    "X = iris.data\n",
    "y = iris.target"
   ]
  },
  {
   "cell_type": "code",
   "execution_count": 3,
   "metadata": {},
   "outputs": [],
   "source": [
    "# digits = load_digits(as_frame=True)\n",
    "\n",
    "# X = digits.data\n",
    "# y = digits.target"
   ]
  },
  {
   "cell_type": "markdown",
   "metadata": {},
   "source": [
    "# K nearest Neighbors"
   ]
  },
  {
   "cell_type": "code",
   "execution_count": 4,
   "metadata": {},
   "outputs": [],
   "source": [
    "from sklearn.model_selection import train_test_split\n",
    "\n",
    "X_train, X_test, y_train, y_test = train_test_split(X, y, test_size=0.25)"
   ]
  },
  {
   "cell_type": "code",
   "execution_count": 5,
   "metadata": {},
   "outputs": [],
   "source": [
    "# 1 - Import the library\n",
    "from sklearn.neighbors import KNeighborsClassifier"
   ]
  },
  {
   "cell_type": "code",
   "execution_count": 6,
   "metadata": {},
   "outputs": [],
   "source": [
    "# 2 - Create an instance of the model\n",
    "knn = KNeighborsClassifier(n_neighbors=5)"
   ]
  },
  {
   "cell_type": "code",
   "execution_count": 7,
   "metadata": {},
   "outputs": [
    {
     "data": {
      "text/plain": [
       "KNeighborsClassifier()"
      ]
     },
     "execution_count": 7,
     "metadata": {},
     "output_type": "execute_result"
    }
   ],
   "source": [
    "# 3 - Fit the classifier\n",
    "knn.fit(X_train, y_train)"
   ]
  },
  {
   "cell_type": "markdown",
   "metadata": {},
   "source": [
    "It's likely that the model overfits the data when number of neighbors used are low.\n",
    "\n",
    "We can estimate the accuracy of the classifier on future data, using the test data"
   ]
  },
  {
   "cell_type": "code",
   "execution_count": 8,
   "metadata": {},
   "outputs": [
    {
     "name": "stdout",
     "output_type": "stream",
     "text": [
      "Train score: 0.991\n",
      "Test score: 0.895\n"
     ]
    }
   ],
   "source": [
    "print(f'Train score: {knn.score(X_train, y_train).round(3)}')\n",
    "print(f'Test score: {knn.score(X_test, y_test).round(3)}')"
   ]
  },
  {
   "cell_type": "markdown",
   "metadata": {},
   "source": [
    "As we got higher train score than test score, we are probably overfitting data."
   ]
  },
  {
   "cell_type": "code",
   "execution_count": 9,
   "metadata": {},
   "outputs": [
    {
     "data": {
      "text/plain": [
       "array([1, 1, 2, 2, 1, 0, 1, 2, 0, 2, 1, 2, 1, 0, 0, 2, 2, 2, 1, 1, 0, 1,\n",
       "       0, 2, 0, 0, 0, 2, 1, 2, 0, 1, 2, 0, 0, 2, 0, 1])"
      ]
     },
     "execution_count": 9,
     "metadata": {},
     "output_type": "execute_result"
    }
   ],
   "source": [
    "# Predictions\n",
    "knn.predict(X_test)"
   ]
  },
  {
   "cell_type": "code",
   "execution_count": 10,
   "metadata": {},
   "outputs": [
    {
     "data": {
      "text/plain": [
       "array([1, 1, 1, 2, 1, 0, 1, 1, 0, 2, 1, 2, 1, 0, 0, 1, 1, 2, 1, 1, 0, 1,\n",
       "       0, 2, 0, 0, 0, 2, 1, 2, 0, 1, 2, 0, 0, 2, 0, 1])"
      ]
     },
     "execution_count": 10,
     "metadata": {},
     "output_type": "execute_result"
    }
   ],
   "source": [
    "np.array(y_test)"
   ]
  },
  {
   "cell_type": "markdown",
   "metadata": {},
   "source": [
    "Predictions and the actual value of y_test are very similar. Our predictor classifier is pretty damn accurate"
   ]
  },
  {
   "cell_type": "markdown",
   "metadata": {},
   "source": [
    "> ### How sensitive is KNN classification accuracy to the choice of \"k\" parameter"
   ]
  },
  {
   "cell_type": "code",
   "execution_count": 11,
   "metadata": {},
   "outputs": [
    {
     "data": {
      "image/png": "[encoded data removed]",
      "text/plain": [
       "<Figure size 432x288 with 1 Axes>"
      ]
     },
     "metadata": {
      "needs_background": "light"
     },
     "output_type": "display_data"
    }
   ],
   "source": [
    "def k_sensitivity():\n",
    "\n",
    "    k_range = range(1, 100, 5)\n",
    "    test_scores = []\n",
    "    train_scores = []\n",
    "\n",
    "    for k in k_range:\n",
    "\n",
    "        X_train, X_test, y_train, y_test = train_test_split(X, y, test_size=0.25)\n",
    "        knn = KNeighborsClassifier(n_neighbors=k)\n",
    "        knn.fit(X_train, y_train)\n",
    "        test_score = knn.score(X_test, y_test)\n",
    "        train_score = knn.score(X_train, y_train)\n",
    "        test_scores.append(test_score)\n",
    "        train_scores.append(train_score)\n",
    "\n",
    "    plt.plot(k_range, test_scores, label='Test scores', c='r')\n",
    "    plt.plot(k_range, train_scores, label='Train scores')\n",
    "    plt.xlabel('k')\n",
    "    plt.ylabel('Accuracy')\n",
    "    plt.legend()\n",
    "    \n",
    "    \n",
    "    \n",
    "k_sensitivity()"
   ]
  },
  {
   "cell_type": "markdown",
   "metadata": {},
   "source": [
    "> ### How sensitive is KNN classification accuracy to the train_test_split proportion"
   ]
  },
  {
   "cell_type": "code",
   "execution_count": 12,
   "metadata": {},
   "outputs": [
    {
     "data": {
      "image/png": "[encoded data removed]",
      "text/plain": [
       "<Figure size 432x288 with 1 Axes>"
      ]
     },
     "metadata": {
      "needs_background": "light"
     },
     "output_type": "display_data"
    }
   ],
   "source": [
    "def split_sensitivity(k=20):\n",
    "\n",
    "    proportions = [0.9, 0.8, 0.7, 0.6, 0.5, 0.4, 0.3, 0.2]\n",
    "\n",
    "    knn = KNeighborsClassifier(n_neighbors=k)\n",
    "    test_scores = []\n",
    "    train_scores = []\n",
    "\n",
    "    for train_size in proportions:\n",
    "\n",
    "        X_train, X_test, y_train, y_test = train_test_split(X, y, test_size=(1-train_size))\n",
    "        knn.fit(X_train, y_train)\n",
    "        test_score = knn.score(X_test, y_test)\n",
    "        train_score = knn.score(X_train, y_train)\n",
    "        test_scores.append(test_score)\n",
    "        train_scores.append(train_score)\n",
    "\n",
    "    plt.plot(proportions, test_scores, label='Test scores', c='r')\n",
    "    plt.plot(proportions, train_scores, label='Train scores')\n",
    "    plt.xlabel('Train sizes')\n",
    "    plt.ylabel('Accuracy')\n",
    "\n",
    "    plt.legend()\n",
    "    \n",
    "    \n",
    "split_sensitivity()    "
   ]
  },
  {
   "cell_type": "markdown",
   "metadata": {},
   "source": [
    "# Linear models for Classification"
   ]
  },
  {
   "cell_type": "markdown",
   "metadata": {},
   "source": [
    "## Logistic Regression & Support Vector Machine (SVM)\n",
    "Logistic function is as follows:\n",
    "$$\\sigma(t) = \\frac{e^t}{1 + e^t}\\$$"
   ]
  },
  {
   "cell_type": "code",
   "execution_count": 13,
   "metadata": {},
   "outputs": [],
   "source": [
    "def plot_logistic_function(start, stop, num):\n",
    "    \"\"\"Plots the logistic regression function given a specific 'np_linspace'\"\"\"\n",
    "    \n",
    "    x = np.linspace(start, stop, num)\n",
    "    y = (np.exp(x)) / (1 + np.exp(x))\n",
    "    \n",
    "    plt.plot(x, y, c='b')\n",
    "\n",
    "    plt.title('Logistic Function')\n",
    "    plt.xlabel('x axis')\n",
    "    plt.ylabel('y axis')"
   ]
  },
  {
   "cell_type": "code",
   "execution_count": 14,
   "metadata": {},
   "outputs": [
    {
     "data": {
      "image/png": "[encoded data removed]",
      "text/plain": [
       "<Figure size 432x288 with 1 Axes>"
      ]
     },
     "metadata": {
      "needs_background": "light"
     },
     "output_type": "display_data"
    }
   ],
   "source": [
    "plot_logistic_function(-10, 10, 1000)"
   ]
  },
  {
   "cell_type": "markdown",
   "metadata": {},
   "source": [
    "Let's get to the dataset!"
   ]
  },
  {
   "cell_type": "code",
   "execution_count": 15,
   "metadata": {},
   "outputs": [],
   "source": [
    "from sklearn.linear_model import LogisticRegression\n",
    "from sklearn.svm import LinearSVC, SVC"
   ]
  },
  {
   "cell_type": "code",
   "execution_count": 16,
   "metadata": {},
   "outputs": [
    {
     "name": "stderr",
     "output_type": "stream",
     "text": [
      "C:\\Users\\Javi\\Anaconda3\\lib\\site-packages\\sklearn\\svm\\_base.py:977: ConvergenceWarning: Liblinear failed to converge, increase the number of iterations.\n",
      "  \"the number of iterations.\", ConvergenceWarning)\n"
     ]
    }
   ],
   "source": [
    "logreg = LogisticRegression().fit(X_train, y_train)\n",
    "linear_svc = LinearSVC().fit(X_train, y_train)\n",
    "svc = SVC(kernel='linear').fit(X_train, y_train)"
   ]
  },
  {
   "cell_type": "markdown",
   "metadata": {},
   "source": [
    "For these two models, the trade-off parameter that determines the strength of the regularization is *C*. Higher values of *C* correspond to *less regularization*. The higher the value of C, the better the model tries to fit the training sets. **High values of C are likely to overfit the data.**"
   ]
  },
  {
   "cell_type": "code",
   "execution_count": 17,
   "metadata": {},
   "outputs": [
    {
     "name": "stdout",
     "output_type": "stream",
     "text": [
      "Train score: 1.0\n",
      "Test score: 0.921\n"
     ]
    }
   ],
   "source": [
    "print(f'Train score: {logreg.score(X_train, y_train).round(3)}')\n",
    "print(f'Test score: {logreg.score(X_test, y_test).round(3)}')"
   ]
  },
  {
   "cell_type": "code",
   "execution_count": 18,
   "metadata": {},
   "outputs": [
    {
     "name": "stdout",
     "output_type": "stream",
     "text": [
      "Train score: 0.991\n",
      "Test score: 0.868\n"
     ]
    }
   ],
   "source": [
    "print(f'Train score: {linear_svc.score(X_train, y_train).round(3)}')\n",
    "print(f'Test score: {linear_svc.score(X_test, y_test).round(3)}')"
   ]
  },
  {
   "cell_type": "code",
   "execution_count": 19,
   "metadata": {},
   "outputs": [
    {
     "name": "stdout",
     "output_type": "stream",
     "text": [
      "Train score: 1.0\n",
      "Test score: 0.921\n"
     ]
    }
   ],
   "source": [
    "print(f'Train score: {svc.score(X_train, y_train).round(3)}')\n",
    "print(f'Test score: {svc.score(X_test, y_test).round(3)}')"
   ]
  },
  {
   "cell_type": "markdown",
   "metadata": {},
   "source": [
    "# Naive Bayes\n",
    "This classifier is widely used in *Text Classification*, *Spam Filtering*, and *Sentiment Analysis* (in Social Media to identify positive and negative customer sentiments).\n",
    "\n",
    "Naive Bayes is an eager learning classifier and it is sure fast. Thus, it could be used for making predictions in real time.\n",
    "\n",
    "When to use it:\n",
    "- Text Classification\n",
    "- When dataset is huge\n",
    "- When you have small training set\n",
    "\n",
    "### Types of Naive Bayes Classifier\n",
    "* Multinomial [sklearn doc](http://scikit-learn.org/stable/modules/generated/sklearn.naive_bayes.MultinomialNB.html)\n",
    "* Bernoulli [sklearn doc](http://scikit-learn.org/stable/modules/generated/sklearn.naive_bayes.BernoulliNB.html)\n",
    "* Gaussian [sklearn doc](http://scikit-learn.org/stable/modules/generated/sklearn.naive_bayes.GaussianNB.html)\n",
    "\n",
    "[Naive Bayes tutorial](https://towardsdatascience.com/all-about-naive-bayes-8e13cef044cf)"
   ]
  },
  {
   "cell_type": "code",
   "execution_count": 20,
   "metadata": {},
   "outputs": [],
   "source": [
    "from sklearn.naive_bayes import MultinomialNB, BernoulliNB, GaussianNB\n",
    "\n",
    "naive_bayes = MultinomialNB().fit(X_train, y_train)\n",
    "bernoulli = BernoulliNB().fit(X_train, y_train)\n",
    "gaussian = GaussianNB().fit(X_train, y_train)"
   ]
  },
  {
   "cell_type": "code",
   "execution_count": 21,
   "metadata": {},
   "outputs": [
    {
     "name": "stdout",
     "output_type": "stream",
     "text": [
      "Train score: 0.696\n",
      "Test score: 0.605\n"
     ]
    }
   ],
   "source": [
    "# Multinomail Naive-Bayes: assumes count data (that each feature represents an integer count of something, like how often a word appears in a sentence)\n",
    "\n",
    "print(f'Train score: {naive_bayes.score(X_train, y_train).round(3)}')\n",
    "print(f'Test score: {naive_bayes.score(X_test, y_test).round(3)}')"
   ]
  },
  {
   "cell_type": "code",
   "execution_count": 22,
   "metadata": {},
   "outputs": [
    {
     "name": "stdout",
     "output_type": "stream",
     "text": [
      "Train score: 0.366\n",
      "Test score: 0.237\n"
     ]
    }
   ],
   "source": [
    "# Bernoulli: assumes binary data\n",
    "\n",
    "print(f'Train score: {bernoulli.score(X_train, y_train).round(3)}')\n",
    "print(f'Test score: {bernoulli.score(X_test, y_test).round(3)}')"
   ]
  },
  {
   "cell_type": "code",
   "execution_count": 23,
   "metadata": {},
   "outputs": [
    {
     "name": "stdout",
     "output_type": "stream",
     "text": [
      "Train score: 0.973\n",
      "Test score: 0.895\n"
     ]
    }
   ],
   "source": [
    "# Gaussian: can be applied to any continuous data\n",
    "# It is mostly used on very high-dimensional data\n",
    "\n",
    "print(f'Train score: {gaussian.score(X_train, y_train).round(3)}')\n",
    "print(f'Test score: {gaussian.score(X_test, y_test).round(3)}')"
   ]
  },
  {
   "cell_type": "code",
   "execution_count": null,
   "metadata": {},
   "outputs": [],
   "source": []
  },
  {
   "cell_type": "code",
   "execution_count": null,
   "metadata": {},
   "outputs": [],
   "source": []
  },
  {
   "cell_type": "code",
   "execution_count": null,
   "metadata": {},
   "outputs": [],
   "source": []
  },
  {
   "cell_type": "code",
   "execution_count": null,
   "metadata": {},
   "outputs": [],
   "source": []
  },
  {
   "cell_type": "code",
   "execution_count": null,
   "metadata": {},
   "outputs": [],
   "source": []
  }
 ],
 "metadata": {
  "kernelspec": {
   "display_name": "Python 3",
   "language": "python",
   "name": "python3"
  },
  "language_info": {
   "codemirror_mode": {
    "name": "ipython",
    "version": 3
   },
   "file_extension": ".py",
   "mimetype": "text/x-python",
   "name": "python",
   "nbconvert_exporter": "python",
   "pygments_lexer": "ipython3",
   "version": "3.6.10"
  }
 },
 "nbformat": 4,
 "nbformat_minor": 2
}
