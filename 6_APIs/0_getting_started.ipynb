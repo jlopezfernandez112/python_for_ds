{
 "cells": [
  {
   "cell_type": "markdown",
   "metadata": {},
   "source": [
    "### API Status Codes\n",
    " \n",
    "Status codes are returned with every request that is made to a web server. `status_code` method indicates info about what happened with a request. Here are some codes that are relevant to `requests.get()` function:\n",
    "\n",
    "- **200**: Everything went okay, and the result has been returned (if any).\n",
    "- **301**: The server is redirecting you to a different endpoint. This can happen when a company switches domain names, or an endpoint name is changed.\n",
    "- **400**: The server thinks you made a bad request. This can happen when you don’t send along the right data, among other things.\n",
    "- **401**: The server thinks you’re not authenticated. Many APIs require login ccredentials, so this happens when you don’t send the right credentials to access an API.\n",
    "- **403**: The resource you’re trying to access is forbidden: you don’t have the right permissions to see it.\n",
    "- **404**: The resource you tried to access wasn’t found on the server.\n",
    "- **503**: The server is not ready to handle the request.\n",
    "\n",
    "If your status code starts with a ‘2’ it was successful and if it starts with a ‘4’ or ‘5’ there was an error. [More info here](https://developer.mozilla.org/en-US/docs/Web/HTTP/Status)"
   ]
  },
  {
   "cell_type": "markdown",
   "metadata": {},
   "source": [
    "We’ll be working with the [Open Notify](http://open-notify.org/) API, which gives access to data about the international space station. It does not require authentication"
   ]
  },
  {
   "cell_type": "code",
   "execution_count": 62,
   "metadata": {},
   "outputs": [
    {
     "data": {
      "text/plain": [
       "200"
      ]
     },
     "execution_count": 62,
     "metadata": {},
     "output_type": "execute_result"
    }
   ],
   "source": [
    "import requests\n",
    "\n",
    "# First API how many people there are currently in space\n",
    "response = requests.get('http://api.open-notify.org/astros.json')\n",
    "response.status_code"
   ]
  },
  {
   "cell_type": "code",
   "execution_count": 63,
   "metadata": {},
   "outputs": [
    {
     "name": "stdout",
     "output_type": "stream",
     "text": [
      "<class 'dict'>\n"
     ]
    },
    {
     "data": {
      "text/plain": [
       "{'message': 'success',\n",
       " 'number': 7,\n",
       " 'people': [{'craft': 'ISS', 'name': 'Sergey Ryzhikov'},\n",
       "  {'craft': 'ISS', 'name': 'Kate Rubins'},\n",
       "  {'craft': 'ISS', 'name': 'Sergey Kud-Sverchkov'},\n",
       "  {'craft': 'ISS', 'name': 'Mike Hopkins'},\n",
       "  {'craft': 'ISS', 'name': 'Victor Glover'},\n",
       "  {'craft': 'ISS', 'name': 'Shannon Walker'},\n",
       "  {'craft': 'ISS', 'name': 'Soichi Noguchi'}]}"
      ]
     },
     "execution_count": 63,
     "metadata": {},
     "output_type": "execute_result"
    }
   ],
   "source": [
    "print(type(response.json()))\n",
    "response.json()"
   ]
  },
  {
   "cell_type": "markdown",
   "metadata": {},
   "source": [
    "Most API servers will send their responses in JSON format. Python has great JSON support with the `json` package, which has *two* main functions:\n",
    "> `json.dumps()` — Takes in a Python object, and converts (dumps) it to a JSON string. <br>\n",
    "> `json.loads()` — Takes a JSON string, and converts (loads) it to a Python object."
   ]
  },
  {
   "cell_type": "code",
   "execution_count": 32,
   "metadata": {},
   "outputs": [],
   "source": [
    "import json\n",
    "\n",
    "str_response = json.dumps(response.json())   # This is a string type\n",
    "\n",
    "obj_response = json.loads(str_response)      # This is a dictionary type"
   ]
  },
  {
   "cell_type": "markdown",
   "metadata": {},
   "source": [
    "### API with query parameters\n",
    "The `http://api.open-notify.org/astros.json` endpoint we used earlier does not take any parameters. It just returns how many people there are currently in space.\n",
    "\n",
    "However, it's very common that API endpoint requires us to specify some parameters. Next endpoint `http://api.open-notify.org/iss-pass.json` tell us the next times that the international space station will pass over a given location on the earth.\n",
    "\n",
    "If we look at the documentation, it specifies required lat (latitude) and long (longitude) parameters. *We can pass them into our `requests.get()` function*"
   ]
  },
  {
   "cell_type": "code",
   "execution_count": 56,
   "metadata": {},
   "outputs": [
    {
     "data": {
      "text/plain": [
       "{'message': 'success',\n",
       " 'request': {'altitude': 100,\n",
       "  'datetime': 1609758766,\n",
       "  'latitude': 40.71,\n",
       "  'longitude': -3.7,\n",
       "  'passes': 5},\n",
       " 'response': [{'duration': 139, 'risetime': 1609798835},\n",
       "  {'duration': 625, 'risetime': 1609804344},\n",
       "  {'duration': 639, 'risetime': 1609810142},\n",
       "  {'duration': 570, 'risetime': 1609816029},\n",
       "  {'duration': 581, 'risetime': 1609821895}]}"
      ]
     },
     "execution_count": 56,
     "metadata": {},
     "output_type": "execute_result"
    }
   ],
   "source": [
    "# Madrid coordinates {lat: 40.41, lon:-3.7}\n",
    "\n",
    "parameters = {\n",
    "    'lat': 40.71,\n",
    "    'lon': -3.7,\n",
    "    'n': 5\n",
    "}\n",
    "\n",
    "response = requests.get('http://api.open-notify.org/iss-pass.json', params=parameters)\n",
    "response.json()"
   ]
  },
  {
   "cell_type": "code",
   "execution_count": 57,
   "metadata": {},
   "outputs": [
    {
     "data": {
      "text/plain": [
       "[{'duration': 139, 'risetime': 1609798835},\n",
       " {'duration': 625, 'risetime': 1609804344},\n",
       " {'duration': 639, 'risetime': 1609810142},\n",
       " {'duration': 570, 'risetime': 1609816029},\n",
       " {'duration': 581, 'risetime': 1609821895}]"
      ]
     },
     "execution_count": 57,
     "metadata": {},
     "output_type": "execute_result"
    }
   ],
   "source": [
    "# Pass times predictions are in 'response'\n",
    "pass_times = response.json()['response']\n",
    "pass_times"
   ]
  },
  {
   "cell_type": "code",
   "execution_count": 58,
   "metadata": {},
   "outputs": [
    {
     "name": "stdout",
     "output_type": "stream",
     "text": [
      "[1609798835, 1609804344, 1609810142, 1609816029, 1609821895]\n"
     ]
    }
   ],
   "source": [
    "# risetime means pass start time, let's get those\n",
    "risetimes = []\n",
    "\n",
    "for i in pass_times:\n",
    "    risetimes.append(i['risetime'])\n",
    "    \n",
    "print(risetimes)"
   ]
  },
  {
   "cell_type": "code",
   "execution_count": 59,
   "metadata": {},
   "outputs": [
    {
     "name": "stdout",
     "output_type": "stream",
     "text": [
      "2021-01-04 23:20:35\n",
      "2021-01-05 00:52:24\n",
      "2021-01-05 02:29:02\n",
      "2021-01-05 04:07:09\n",
      "2021-01-05 05:44:55\n"
     ]
    }
   ],
   "source": [
    "# These times are in timestamp format. Let's try to fix this\n",
    "from datetime import datetime\n",
    "\n",
    "times = []\n",
    "\n",
    "for i in risetimes:\n",
    "    \n",
    "    time = datetime.fromtimestamp(i)\n",
    "    times.append(time)\n",
    "    print(time)"
   ]
  },
  {
   "cell_type": "code",
   "execution_count": null,
   "metadata": {},
   "outputs": [],
   "source": []
  },
  {
   "cell_type": "code",
   "execution_count": null,
   "metadata": {},
   "outputs": [],
   "source": []
  },
  {
   "cell_type": "code",
   "execution_count": null,
   "metadata": {},
   "outputs": [],
   "source": []
  },
  {
   "cell_type": "code",
   "execution_count": null,
   "metadata": {},
   "outputs": [],
   "source": []
  }
 ],
 "metadata": {
  "kernelspec": {
   "display_name": "Python 3",
   "language": "python",
   "name": "python3"
  },
  "language_info": {
   "codemirror_mode": {
    "name": "ipython",
    "version": 3
   },
   "file_extension": ".py",
   "mimetype": "text/x-python",
   "name": "python",
   "nbconvert_exporter": "python",
   "pygments_lexer": "ipython3",
   "version": "3.7.4"
  }
 },
 "nbformat": 4,
 "nbformat_minor": 2
}
