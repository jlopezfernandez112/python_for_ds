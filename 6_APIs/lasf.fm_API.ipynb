{
 "cells": [
  {
   "cell_type": "markdown",
   "metadata": {},
   "source": [
    "### Getting Music Data with the Last.fm API\n",
    "First step, you need to authenticate yourself to be able to retrive any data from an API. Otherwise you will get denied permission when doing it.\n",
    "\n",
    "The process for using an API key works like this:\n",
    "1. You create an account with the provider of the API.\n",
    "2. You request an API key, which is usually a long string like 54686973206973206d7920415049204b6579.\n",
    "3. You record your API key somewhere safe, like a password keeper. *If someone gets your API key, they can use the API pretending to be you.*\n",
    "4. Every time you make a request, you provide the API key to authenticate yourself.\n",
    "\n",
    "Once you are all done you're ready to dive in!"
   ]
  },
  {
   "cell_type": "code",
   "execution_count": 2,
   "metadata": {},
   "outputs": [],
   "source": [
    "import requests\n",
    "import config"
   ]
  },
  {
   "cell_type": "code",
   "execution_count": 3,
   "metadata": {},
   "outputs": [
    {
     "data": {
      "text/plain": [
       "400"
      ]
     },
     "execution_count": 3,
     "metadata": {},
     "output_type": "execute_result"
    }
   ],
   "source": [
    "user_agent = config.LAST_FM_USER\n",
    "api_key = config.LAST_FM_KEY\n",
    "\n",
    "\n",
    "headers = {\n",
    "    'user-agent': user_agent\n",
    "}\n",
    "\n",
    "payload = {\n",
    "    'api-key': api_key,\n",
    "    'method': 'chart.gettopartists',\n",
    "    'format': 'json'\n",
    "}\n",
    "\n",
    "response = requests.get('http://ws.audioscrobbler.com/2.0/', headers=headers, params=payload)\n",
    "response.status_code"
   ]
  },
  {
   "cell_type": "code",
   "execution_count": null,
   "metadata": {},
   "outputs": [],
   "source": []
  },
  {
   "cell_type": "code",
   "execution_count": null,
   "metadata": {},
   "outputs": [],
   "source": []
  },
  {
   "cell_type": "code",
   "execution_count": null,
   "metadata": {},
   "outputs": [],
   "source": []
  },
  {
   "cell_type": "code",
   "execution_count": null,
   "metadata": {},
   "outputs": [],
   "source": []
  },
  {
   "cell_type": "code",
   "execution_count": null,
   "metadata": {},
   "outputs": [],
   "source": []
  }
 ],
 "metadata": {
  "kernelspec": {
   "display_name": "Python 3",
   "language": "python",
   "name": "python3"
  },
  "language_info": {
   "codemirror_mode": {
    "name": "ipython",
    "version": 3
   },
   "file_extension": ".py",
   "mimetype": "text/x-python",
   "name": "python",
   "nbconvert_exporter": "python",
   "pygments_lexer": "ipython3",
   "version": "3.7.4"
  }
 },
 "nbformat": 4,
 "nbformat_minor": 2
}
