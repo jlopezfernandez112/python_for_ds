{
 "cells": [
  {
   "cell_type": "markdown",
   "metadata": {},
   "source": [
    "# Messari"
   ]
  },
  {
   "cell_type": "markdown",
   "metadata": {},
   "source": [
    "This is their [website](https://messari.io/)\n",
    "\n",
    "This is the [API documentation](https://messari.io/api/docs)"
   ]
  },
  {
   "cell_type": "code",
   "execution_count": 2,
   "metadata": {},
   "outputs": [],
   "source": [
    "import requests\n",
    "import config"
   ]
  },
  {
   "cell_type": "code",
   "execution_count": 4,
   "metadata": {},
   "outputs": [],
   "source": [
    "api_key = config.MESSARI_KEY"
   ]
  },
  {
   "cell_type": "markdown",
   "metadata": {},
   "source": [
    "### Assets"
   ]
  },
  {
   "cell_type": "code",
   "execution_count": 10,
   "metadata": {},
   "outputs": [],
   "source": [
    "url = 'https://data.messari.io/api/v2/assets?'\n",
    "\n",
    "headers = {\n",
    "    'x-messari-api-key': api_key\n",
    "}\n",
    "\n",
    "response = requests.get(url, headers=headers)"
   ]
  },
  {
   "cell_type": "code",
   "execution_count": 11,
   "metadata": {},
   "outputs": [
    {
     "data": {
      "text/plain": [
       "200"
      ]
     },
     "execution_count": 11,
     "metadata": {},
     "output_type": "execute_result"
    }
   ],
   "source": [
    "response.status_code"
   ]
  },
  {
   "cell_type": "markdown",
   "metadata": {},
   "source": [
    "Finally I got it! It's been so frustrating but I did it. First time I get permission granted to an API"
   ]
  },
  {
   "cell_type": "code",
   "execution_count": 12,
   "metadata": {},
   "outputs": [
    {
     "data": {
      "text/plain": [
       "'https://data.messari.io/api/v2/assets'"
      ]
     },
     "execution_count": 12,
     "metadata": {},
     "output_type": "execute_result"
    }
   ],
   "source": [
    "response.url"
   ]
  },
  {
   "cell_type": "code",
   "execution_count": 13,
   "metadata": {},
   "outputs": [
    {
     "data": {
      "text/plain": [
       "requests.models.Response"
      ]
     },
     "execution_count": 13,
     "metadata": {},
     "output_type": "execute_result"
    }
   ],
   "source": [
    "type(response)"
   ]
  },
  {
   "cell_type": "code",
   "execution_count": 17,
   "metadata": {},
   "outputs": [],
   "source": [
    "py_response = response.json()"
   ]
  },
  {
   "cell_type": "code",
   "execution_count": 22,
   "metadata": {},
   "outputs": [
    {
     "data": {
      "text/plain": [
       "dict_keys(['status', 'data'])"
      ]
     },
     "execution_count": 22,
     "metadata": {},
     "output_type": "execute_result"
    }
   ],
   "source": [
    "py_response.keys()"
   ]
  },
  {
   "cell_type": "code",
   "execution_count": 27,
   "metadata": {},
   "outputs": [
    {
     "data": {
      "text/plain": [
       "list"
      ]
     },
     "execution_count": 27,
     "metadata": {},
     "output_type": "execute_result"
    }
   ],
   "source": [
    "type(py_response['data'])"
   ]
  },
  {
   "cell_type": "code",
   "execution_count": 57,
   "metadata": {},
   "outputs": [
    {
     "data": {
      "text/plain": [
       "dict_keys(['id', 'symbol', 'name', 'slug', '_internal_temp_agora_id', 'metrics', 'profile'])"
      ]
     },
     "execution_count": 57,
     "metadata": {},
     "output_type": "execute_result"
    }
   ],
   "source": [
    "# These keys are meant for the \"Bitcoin\". Which is the first element of the value(list) from \"data\" key\n",
    "py_response['data'][0].keys()"
   ]
  },
  {
   "cell_type": "code",
   "execution_count": 80,
   "metadata": {},
   "outputs": [],
   "source": [
    "url = 'https://data.messari.io/api/v2/assets?'\n",
    "\n",
    "headers = {\n",
    "    'x-messari-api-key': api_key\n",
    "}\n",
    "\n",
    "params = {\n",
    "    'fields': ['metrics']\n",
    "}\n",
    "\n",
    "response = requests.get(url, params=params,  headers=headers)"
   ]
  },
  {
   "cell_type": "code",
   "execution_count": 81,
   "metadata": {},
   "outputs": [
    {
     "data": {
      "text/plain": [
       "<Response [200]>"
      ]
     },
     "execution_count": 81,
     "metadata": {},
     "output_type": "execute_result"
    }
   ],
   "source": [
    "response"
   ]
  },
  {
   "cell_type": "code",
   "execution_count": 82,
   "metadata": {},
   "outputs": [
    {
     "data": {
      "text/plain": [
       "'https://data.messari.io/api/v2/assets?fields=metrics'"
      ]
     },
     "execution_count": 82,
     "metadata": {},
     "output_type": "execute_result"
    }
   ],
   "source": [
    "response.url"
   ]
  },
  {
   "cell_type": "code",
   "execution_count": 92,
   "metadata": {},
   "outputs": [],
   "source": [
    "metrics = response.json()['data']"
   ]
  },
  {
   "cell_type": "code",
   "execution_count": 93,
   "metadata": {},
   "outputs": [
    {
     "data": {
      "text/plain": [
       "dict_keys(['market_data', 'marketcap', 'supply', 'blockchain_stats_24_hours', 'market_data_liquidity', 'all_time_high', 'cycle_low', 'token_sale_stats', 'staking_stats', 'mining_stats', 'developer_activity', 'roi_data', 'roi_by_year', 'risk_metrics', 'misc_data', 'lend_rates', 'borrow_rates', 'loan_data', 'reddit', 'on_chain_data', 'exchange_flows', 'alert_messages'])"
      ]
     },
     "execution_count": 93,
     "metadata": {},
     "output_type": "execute_result"
    }
   ],
   "source": [
    "btc_metrics = metrics[0]['metrics']\n",
    "btc_metrics.keys()"
   ]
  },
  {
   "cell_type": "code",
   "execution_count": 105,
   "metadata": {},
   "outputs": [
    {
     "data": {
      "text/plain": [
       "{'price_usd': 38788.56787638353,\n",
       " 'price_btc': 1,\n",
       " 'price_eth': 31.077039646627746,\n",
       " 'volume_last_24_hours': 80165306453.31001,\n",
       " 'real_volume_last_24_hours': 12735808258.284399,\n",
       " 'volume_last_24_hours_overstatement_multiple': 6.294481263186733,\n",
       " 'percent_change_usd_last_24_hours': 11.844515872057665,\n",
       " 'percent_change_btc_last_24_hours': 0,\n",
       " 'percent_change_eth_last_24_hours': 5.301629044027802,\n",
       " 'ohlcv_last_1_hour': {'open': 38294.405058510376,\n",
       "  'high': 38806.073059751485,\n",
       "  'low': 38100.57939284923,\n",
       "  'close': 38799.91132493895,\n",
       "  'volume': 562183194.5709355},\n",
       " 'ohlcv_last_24_hour': {'open': 34323.76565161691,\n",
       "  'high': 38794.067546980135,\n",
       "  'low': 34238.31387020172,\n",
       "  'close': 38788.567876383546,\n",
       "  'volume': 14027985876.744667},\n",
       " 'last_trade_at': '2021-01-07T15:51:54.86Z'}"
      ]
     },
     "execution_count": 105,
     "metadata": {},
     "output_type": "execute_result"
    }
   ],
   "source": [
    "market_data = btc_metrics['market_data']\n",
    "market_data    # ['ohlcv_last_24_hour']"
   ]
  },
  {
   "cell_type": "code",
   "execution_count": 110,
   "metadata": {},
   "outputs": [
    {
     "data": {
      "text/plain": [
       "{'y_2050': 20986335.65,\n",
       " 'y_plus10': 20583310.37,\n",
       " 'liquid': 18594244.56,\n",
       " 'circulating': 18599981.67608819,\n",
       " 'y_2050_issued_percent': 88.60167334643768,\n",
       " 'annual_inflation_percent': 1.8078399954098558,\n",
       " 'stock_to_flow': 55.31462975368513,\n",
       " 'y_plus10_issued_percent': 90.33651159971309}"
      ]
     },
     "execution_count": 110,
     "metadata": {},
     "output_type": "execute_result"
    }
   ],
   "source": [
    "supply = btc_metrics['supply']\n",
    "supply"
   ]
  },
  {
   "cell_type": "code",
   "execution_count": 102,
   "metadata": {},
   "outputs": [
    {
     "data": {
      "text/plain": [
       "{'sharpe_ratios': {'last_30_days': 11.14551248272958,\n",
       "  'last_90_days': 7.987826464279772,\n",
       "  'last_1_year': 2.17801511472372,\n",
       "  'last_3_years': 0.38619610095723833},\n",
       " 'volatility_stats': {'volatility_last_30_days': 0.6859127567855953,\n",
       "  'volatility_last_90_days': 0.6269678165205115,\n",
       "  'volatility_last_1_year': 0.7581216443111949,\n",
       "  'volatility_last_3_years': 0.7617545947049306}}"
      ]
     },
     "execution_count": 102,
     "metadata": {},
     "output_type": "execute_result"
    }
   ],
   "source": [
    "risk_metrics = btc_metrics['risk_metrics']\n",
    "risk_metrics"
   ]
  },
  {
   "cell_type": "markdown",
   "metadata": {},
   "source": [
    "### TimeSeries"
   ]
  },
  {
   "cell_type": "code",
   "execution_count": 9,
   "metadata": {},
   "outputs": [],
   "source": [
    "url = 'https://data.messari.io/api/assets/metrics'\n",
    "\n",
    "headers = {\n",
    "    'x-messari-api-key': api_key\n",
    "}\n",
    "\n",
    "response = requests.get(url, headers=headers)"
   ]
  },
  {
   "cell_type": "code",
   "execution_count": 10,
   "metadata": {},
   "outputs": [
    {
     "data": {
      "text/plain": [
       "<Response [404]>"
      ]
     },
     "execution_count": 10,
     "metadata": {},
     "output_type": "execute_result"
    }
   ],
   "source": [
    "response"
   ]
  },
  {
   "cell_type": "code",
   "execution_count": 38,
   "metadata": {},
   "outputs": [],
   "source": [
    "url = 'https://data.messari.io/api/v1/assets/bitcoin/metrics/price/time-series?'\n",
    "\n",
    "headers = {\n",
    "    'x-messari-api-key': api_key\n",
    "}\n",
    "\n",
    "params = {\n",
    "    'start': '2020-01-01',\n",
    "    'end': '2020-02-01',\n",
    "    'interval': '1d',\n",
    "    'format': 'json'\n",
    "}\n",
    "\n",
    "response = requests.get(url, headers=headers, params=params)"
   ]
  },
  {
   "cell_type": "code",
   "execution_count": 39,
   "metadata": {},
   "outputs": [
    {
     "data": {
      "text/plain": [
       "<Response [200]>"
      ]
     },
     "execution_count": 39,
     "metadata": {},
     "output_type": "execute_result"
    }
   ],
   "source": [
    "response"
   ]
  },
  {
   "cell_type": "code",
   "execution_count": 40,
   "metadata": {},
   "outputs": [
    {
     "data": {
      "text/plain": [
       "'https://data.messari.io/api/v1/assets/bitcoin/metrics/price/time-series?start=2020-01-01&end=2020-02-01&interval=1d&format=json'"
      ]
     },
     "execution_count": 40,
     "metadata": {},
     "output_type": "execute_result"
    }
   ],
   "source": [
    "response.url"
   ]
  },
  {
   "cell_type": "code",
   "execution_count": 42,
   "metadata": {},
   "outputs": [
    {
     "data": {
      "text/plain": [
       "dict_keys(['id', 'symbol', 'name', 'slug', '_internal_temp_agora_id', 'parameters', 'schema', 'values'])"
      ]
     },
     "execution_count": 42,
     "metadata": {},
     "output_type": "execute_result"
    }
   ],
   "source": [
    "data = response.json()['data']\n",
    "data.keys()"
   ]
  },
  {
   "cell_type": "code",
   "execution_count": 49,
   "metadata": {},
   "outputs": [
    {
     "data": {
      "text/plain": [
       "{'asset_key': 'bitcoin',\n",
       " 'asset_id': '1e31218a-e44e-4285-820c-8282ee222035',\n",
       " 'start': '2020-01-01T00:00:00Z',\n",
       " 'end': '2020-02-01T00:00:00Z',\n",
       " 'interval': '1d',\n",
       " 'order': 'ascending',\n",
       " 'format': 'json',\n",
       " 'timestamp_format': 'unix-milliseconds',\n",
       " 'columns': ['timestamp', 'open', 'high', 'low', 'close', 'volume']}"
      ]
     },
     "execution_count": 49,
     "metadata": {},
     "output_type": "execute_result"
    }
   ],
   "source": [
    "parameters = data['parameters']\n",
    "parameters"
   ]
  },
  {
   "cell_type": "code",
   "execution_count": 52,
   "metadata": {},
   "outputs": [],
   "source": [
    "values = data['values']"
   ]
  },
  {
   "cell_type": "markdown",
   "metadata": {},
   "source": [
    "# CryptoCompare\n",
    "[Api documentation](https://min-api.cryptocompare.com/documentation)"
   ]
  },
  {
   "cell_type": "code",
   "execution_count": null,
   "metadata": {},
   "outputs": [],
   "source": []
  },
  {
   "cell_type": "code",
   "execution_count": null,
   "metadata": {},
   "outputs": [],
   "source": []
  },
  {
   "cell_type": "code",
   "execution_count": null,
   "metadata": {},
   "outputs": [],
   "source": []
  },
  {
   "cell_type": "code",
   "execution_count": null,
   "metadata": {},
   "outputs": [],
   "source": []
  }
 ],
 "metadata": {
  "kernelspec": {
   "display_name": "Python 3",
   "language": "python",
   "name": "python3"
  },
  "language_info": {
   "codemirror_mode": {
    "name": "ipython",
    "version": 3
   },
   "file_extension": ".py",
   "mimetype": "text/x-python",
   "name": "python",
   "nbconvert_exporter": "python",
   "pygments_lexer": "ipython3",
   "version": "3.7.4"
  }
 },
 "nbformat": 4,
 "nbformat_minor": 2
}
