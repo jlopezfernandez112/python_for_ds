{
 "cells": [
  {
   "cell_type": "markdown",
   "metadata": {},
   "source": [
    "This is a tutorial on how to access the YouTube API from Google. [YouTube tutorial here](https://www.youtube.com/watch?v=th5_9woFJmk)"
   ]
  },
  {
   "cell_type": "markdown",
   "metadata": {},
   "source": [
    "We got this API key by signing up for [Google Developers](https://developers.google.com/) and looking for the right API we're gonna be working with in this project. https://console.developers.google.com/"
   ]
  },
  {
   "cell_type": "code",
   "execution_count": 1,
   "metadata": {},
   "outputs": [],
   "source": [
    "import config"
   ]
  },
  {
   "cell_type": "code",
   "execution_count": 2,
   "metadata": {},
   "outputs": [],
   "source": [
    "# API key\n",
    "api_key = config.GOOGLE_KEY"
   ]
  },
  {
   "cell_type": "markdown",
   "metadata": {},
   "source": [
    "From the API documentation (in our case from [Google API's GitHub](https://github.com/googleapis/google-api-python-client)) we conda-installed a required library to work with Google APIs *`googleapiclient`* and then we followed the step in the *docs* section and *getting started*"
   ]
  },
  {
   "cell_type": "code",
   "execution_count": null,
   "metadata": {},
   "outputs": [],
   "source": [
    "# Required piece of code we need to retrieve data from Google APIs\n",
    "# We can find it in Google APIs GitHub (and just copy&paste it)\n",
    "from googleapiclient.discovery import build\n",
    "\n",
    "# Function takes two mandatory arguments. It's all in GitHub doc. scrolling down to \"building...\"\n",
    "# Build the service object\n",
    "service = build(serviceName='youtube', version='v3', developerKey=api_key)\n",
    "\n",
    "# This youtube instance, has a lot of methods that we can check on the documentation\n",
    "# We'are working with \"channels\" method\n",
    "request = service.channels().list(\n",
    "    part='statistics',\n",
    "    forUsername='NASAtelevision'\n",
    ")\n",
    "\n",
    "\n",
    "# It doesn't work either. This is so frustrating."
   ]
  },
  {
   "cell_type": "code",
   "execution_count": null,
   "metadata": {},
   "outputs": [],
   "source": []
  },
  {
   "cell_type": "code",
   "execution_count": null,
   "metadata": {},
   "outputs": [],
   "source": []
  }
 ],
 "metadata": {
  "kernelspec": {
   "display_name": "Python 3",
   "language": "python",
   "name": "python3"
  },
  "language_info": {
   "codemirror_mode": {
    "name": "ipython",
    "version": 3
   },
   "file_extension": ".py",
   "mimetype": "text/x-python",
   "name": "python",
   "nbconvert_exporter": "python",
   "pygments_lexer": "ipython3",
   "version": "3.7.4"
  }
 },
 "nbformat": 4,
 "nbformat_minor": 2
}
