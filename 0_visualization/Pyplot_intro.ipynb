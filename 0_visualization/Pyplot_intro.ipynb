{
 "cells": [
  {
   "cell_type": "code",
   "execution_count": null,
   "metadata": {},
   "outputs": [],
   "source": [
    "# Developers salaries by age. Python, JavaScript and developers on average.\n",
    "\n",
    "ages_x = [18, 19, 20, 21, 22, 23, 24, 25, 26, 27, 28, 29, 30, 31, 32, 33, 34, 35,\n",
    "          36, 37, 38, 39, 40, 41, 42, 43, 44, 45, 46, 47, 48, 49, 50, 51, 52, 53, 54, 55]\n",
    "\n",
    "py_dev_y = [20046, 17100, 20000, 24744, 30500, 37732, 41247, 45372, 48876, 53850, 57287, 63016, 65998, 70003, 70000, 71496, 75370, 83640, 84666,\n",
    "            84392, 78254, 85000, 87038, 91991, 100000, 94796, 97962, 93302, 99240, 102736, 112285, 100771, 104708, 108423, 101407, 112542, 122870, 120000]\n",
    "\n",
    "js_dev_y = [16446, 16791, 18942, 21780, 25704, 29000, 34372, 37810, 43515, 46823, 49293, 53437, 56373, 62375, 66674, 68745, 68746, 74583, 79000,\n",
    "            78508, 79996, 80403, 83820, 88833, 91660, 87892, 96243, 90000, 99313, 91660, 102264, 100000, 100000, 91660, 99240, 108000, 105000, 104000]\n",
    "\n",
    "dev_y = [17784, 16500, 18012, 20628, 25206, 30252, 34368, 38496, 42000, 46752, 49320, 53200, 56000, 62316, 64928, 67317, 68748, 73752, 77232,\n",
    "         78000, 78508, 79536, 82488, 88935, 90000, 90056, 95000, 90000, 91633, 91660, 98150, 98964, 100000, 98988, 100000, 108923, 105000, 103117]"
   ]
  },
  {
   "cell_type": "code",
   "execution_count": null,
   "metadata": {},
   "outputs": [],
   "source": [
    "# Prints out fancy plot styles.\n",
    "print(plt.style.available)"
   ]
  },
  {
   "cell_type": "code",
   "execution_count": null,
   "metadata": {},
   "outputs": [],
   "source": [
    "from matplotlib import pyplot as plt\n",
    "\n",
    "# hand-drawing plot Method.\n",
    "# plt.xkcd()\n",
    "\n",
    "# Change to a fancy style.\n",
    "# plt.style.use('ggplot')\n",
    "\n",
    "# Adds essential info to the plot.\n",
    "plt.plot(ages_x, dev_y, label='All devs')\n",
    "plt.plot(ages_x, py_dev_y, label='Python devs')\n",
    "\n",
    "# Adds a title and x,y labels.\n",
    "plt.xlabel('Ages')\n",
    "plt.ylabel('Median Salary (USD)')\n",
    "plt.title('Median Salary (USD) by age')\n",
    "\n",
    "# Adds a legend.\n",
    "plt.legend()\n",
    "\n",
    "# Adds a grid (cuadrícula).\n",
    "# plt.grid(True)\n",
    "\n",
    "# Makes it tighter.\n",
    "# plt.tight_layout()\n",
    "\n",
    "# Saves it as a .png to the cwd or whatever path you pass it.\n",
    "# plt.savefig('plot.png')\n",
    "\n",
    "# Prints the plot on the screen.\n",
    "plt.show()"
   ]
  },
  {
   "cell_type": "code",
   "execution_count": null,
   "metadata": {},
   "outputs": [],
   "source": [
    "#Adds some format strings. (https://matplotlib.org/api/_as_gen/matplotlib.pyplot.plot.html#matplotlib.pyplot.plot)\n",
    "\n",
    "plt.plot(ages_x, dev_y, color='#444444', linestyle='--', linewidth=3, label='All devs')\n",
    "plt.plot(ages_x, py_dev_y, color='#5a7d9a', label='Python devs')\n",
    "plt.plot(ages_x, js_dev_y, color='#adad3b', label='JavaScript devs')\n",
    "\n",
    "# Adds a title and x,y labels.\n",
    "plt.xlabel('Ages')\n",
    "plt.ylabel('Median Salary (USD)')\n",
    "plt.title('Median Salary (USD) by age')\n",
    "\n",
    "# Adds a legend\n",
    "plt.legend()\n",
    "\n",
    "# Prints the plot on the screen.\n",
    "# plt.show()"
   ]
  }
 ],
 "metadata": {
  "kernelspec": {
   "display_name": "Python 3",
   "language": "python",
   "name": "python3"
  },
  "language_info": {
   "codemirror_mode": {
    "name": "ipython",
    "version": 3
   },
   "file_extension": ".py",
   "mimetype": "text/x-python",
   "name": "python",
   "nbconvert_exporter": "python",
   "pygments_lexer": "ipython3",
   "version": "3.7.4"
  }
 },
 "nbformat": 4,
 "nbformat_minor": 2
}
