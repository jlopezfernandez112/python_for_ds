{
 "cells": [
  {
   "cell_type": "code",
   "execution_count": null,
   "metadata": {},
   "outputs": [],
   "source": [
    "potencia_x08 = [100, 300, 500, 700, 750, 900, 950]\n",
    "cos_phi_08 = '1,0376 1,0038 1,0075 0,9928 0,9744 0,8961 0,8288'\n",
    "data_08 = cos_phi_08.replace(',', '.').split()\n",
    "cos_08 = [float(x) for x in data_08]\n",
    "\n",
    "\n",
    "potencia_x09 = [100, 300, 500, 700, 800, 900, 950, 1000, 1100, 1200]\n",
    "cos_phi_09 = '1,0436 1,0146 1,0013 1,0056 1,0061 1,0052 0,991 0,9758 0,9415 0,836'\n",
    "data_09 = cos_phi_09.replace(',', '.').split()\n",
    "cos_09 = [float(x) for x in data_09]\n",
    "\n",
    "\n",
    "potencia_x1 = [100, 300, 500, 900, 1200, 1500, 1800, 2000]\n",
    "cos_phi_1 = '1,0428 1,0395 1,0329 1,0091 1,003 1,0102 1,0047 0,9815'\n",
    "data_1 = cos_phi_1.replace(',', '.').split()\n",
    "cos_1 = [float(x) for x in data_1]\n",
    "\n",
    "\n",
    "potencia_x095 = [100, 300, 700, 1200, 1500, 1800, 2100, 2400, 2450, 2500, 2550]\n",
    "cos_phi_095 = '1,0493 1,0485 1,042 1,0488 1,0446 1,031 1,0064 1,0115 1,0018 1,0043 0,8988'\n",
    "data_095 = cos_phi_095.replace(',', '.').split()\n",
    "cos_095 = [float(x) for x in data_095]"
   ]
  },
  {
   "cell_type": "code",
   "execution_count": null,
   "metadata": {},
   "outputs": [],
   "source": [
    "from matplotlib import pyplot as plt\n",
    "\n",
    "# Adds the plots.\n",
    "plt.plot(potencia_x08, cos_08, label='cos phi 0.8')\n",
    "plt.plot(potencia_x09, cos_09, label='cos phi 0.9')\n",
    "plt.plot(potencia_x1, cos_1, label='cos phi 1')\n",
    "plt.plot(potencia_x095, cos_095, label='cos phi 0.95')\n",
    "\n",
    "# Adds a title and x,y labels and legend.\n",
    "plt.xlabel('Potencia')\n",
    "plt.ylabel('cos phi')\n",
    "plt.title('Curva P-W')\n",
    "plt.legend()\n",
    "\n",
    "# Styles.\n",
    "# plt.style.use('seaborn')\n",
    "\n",
    "# Displays the plot on the screen.\n",
    "plt.show()\n",
    "\n",
    "# plt.savefig('plot.png')"
   ]
  },
  {
   "cell_type": "code",
   "execution_count": null,
   "metadata": {},
   "outputs": [],
   "source": [
    "print(plt.style.available)"
   ]
  },
  {
   "cell_type": "code",
   "execution_count": null,
   "metadata": {},
   "outputs": [],
   "source": []
  }
 ],
 "metadata": {
  "kernelspec": {
   "display_name": "Python 3",
   "language": "python",
   "name": "python3"
  },
  "language_info": {
   "codemirror_mode": {
    "name": "ipython",
    "version": 3
   },
   "file_extension": ".py",
   "mimetype": "text/x-python",
   "name": "python",
   "nbconvert_exporter": "python",
   "pygments_lexer": "ipython3",
   "version": "3.7.4"
  }
 },
 "nbformat": 4,
 "nbformat_minor": 2
}
