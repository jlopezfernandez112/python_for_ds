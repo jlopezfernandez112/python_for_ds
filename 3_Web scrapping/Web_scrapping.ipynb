{
 "cells": [
  {
   "cell_type": "markdown",
   "metadata": {},
   "source": [
    "# Web scrapping with BeautifulSoup & requests modules"
   ]
  },
  {
   "cell_type": "code",
   "execution_count": 1,
   "metadata": {},
   "outputs": [],
   "source": [
    "from bs4 import BeautifulSoup\n",
    "import requests\n",
    "import csv"
   ]
  },
  {
   "cell_type": "code",
   "execution_count": 4,
   "metadata": {},
   "outputs": [],
   "source": [
    "source = requests.get('https://coreyms.com/').text\n",
    "\n",
    "soup = BeautifulSoup(source, 'lxml')\n",
    "\n",
    "\n",
    "\n",
    "# print(soup.prettify())"
   ]
  },
  {
   "cell_type": "markdown",
   "metadata": {},
   "source": [
    "#### Inspect the webpage\n",
    "Inspect the html code of the webpage you want data from. \n",
    "Find out how the code is nested, where the header, the div and the footer are."
   ]
  },
  {
   "cell_type": "markdown",
   "metadata": {},
   "source": [
    "### Getting info from one article"
   ]
  },
  {
   "cell_type": "code",
   "execution_count": null,
   "metadata": {},
   "outputs": [],
   "source": [
    "article = soup.find('article')\n",
    "# print(article.prettify())\n",
    "\n",
    "# Grabbing the headline\n",
    "header = article.find('h2', class_='entry-title')\n",
    "# print(header.text)\n",
    "\n",
    "# headline = article.h2.a.text\n",
    "# print(headline)\n",
    "\n",
    "# Grabbing content\n",
    "summary = article.find('div', class_='entry-content')\n",
    "# print(summary.text)\n",
    "\n",
    "# Grabbing footer\n",
    "# footer = article.find('footer', class_='entry-footer')\n",
    "# print(footer.text)"
   ]
  },
  {
   "cell_type": "code",
   "execution_count": null,
   "metadata": {},
   "outputs": [],
   "source": [
    "# Get the link to the video. In our case is in an 'iframe'. Check html code.\n",
    "\n",
    "video_source = article.find('iframe', class_='youtube-player')\n",
    "\n",
    "video_src = video_source['src']\n",
    "\n",
    "video_split = video_src.split('/')[4]\n",
    "\n",
    "video_id = video_split.split('?')[0]\n",
    "\n",
    "youtube_link = f'https://www.youtube.com/watch?v={video_id}'\n",
    "youtube_link"
   ]
  },
  {
   "cell_type": "markdown",
   "metadata": {},
   "source": [
    "### Getting info looping over all articles in the website & saving it to a csv file"
   ]
  },
  {
   "cell_type": "code",
   "execution_count": 5,
   "metadata": {
    "scrolled": true
   },
   "outputs": [
    {
     "name": "stdout",
     "output_type": "stream",
     "text": [
      "Python Tutorial: Zip Files – Creating and Extracting Zip Archives\n",
      "\n",
      "In this video, we will be learning how to create and extract zip archives. We will start by using the zipfile module, and then we will see how to do this using the shutil module. We will learn how to do this with single files and directories, as well as learning how to use gzip as well. Let’s get started…\n",
      "\n",
      "\n",
      "https://www.youtube.com/watch?v=z0gguhEmWiY\n",
      "Python Data Science Tutorial: Analyzing the 2019 Stack Overflow Developer Survey\n",
      "\n",
      "In this Python Programming video, we will be learning how to download and analyze real-world data from the 2019 Stack Overflow Developer Survey. This is terrific practice for anyone getting into the data science field. We will learn different ways to analyze this data and also some best practices. Let’s get started…\n",
      "\n",
      "\n",
      "\n",
      "\n",
      "https://www.youtube.com/watch?v=_P7X8tMplsw\n",
      "Python Multiprocessing Tutorial: Run Code in Parallel Using the Multiprocessing Module\n",
      "\n",
      "In this Python Programming video, we will be learning how to run code in parallel using the multiprocessing module. We will also look at how to process multiple high-resolution images at the same time using a ProcessPoolExecutor from the concurrent.futures module. Let’s get started…\n",
      "\n",
      "\n",
      "\n",
      "\n",
      "https://www.youtube.com/watch?v=fKl2JW_qrso\n",
      "Python Threading Tutorial: Run Code Concurrently Using the Threading Module\n",
      "\n",
      "In this Python Programming video, we will be learning how to run threads concurrently using the threading module. We will also look at how to download multiple high-resolution images online using a ThreadPoolExecutor from the concurrent.futures module. Let’s get started…\n",
      "\n",
      "\n",
      "\n",
      "\n",
      "https://www.youtube.com/watch?v=IEEhzQoKtQU\n",
      "Update (2019-09-03)\n",
      "\n",
      "Hey everyone. I wanted to give you an update on my videos. I will be releasing videos on threading and multiprocessing within the next week. Thanks so much for your patience. I currently have a temporary recording studio setup at my Airbnb that will allow me to record and edit the threading/multiprocessing videos. I am going to be moving into my new house in 10 days and once I have my recording studio setup then you can expect much faster video releases. I really appreciate how patient everyone has been while I go through this move, especially those of you who are contributing monthly through YouTube \n",
      "\n",
      "None\n",
      "Python Quick Tip: The Difference Between “==” and “is” (Equality vs Identity)\n",
      "\n",
      "In this Python Programming Tutorial, we will be learning the difference between using “==” and the “is” keyword when doing comparisons. The difference between these is that “==” checks to see if values are equal, and the “is” keyword checks their identity, which means it’s going to check if the values are identical in terms of being the same object in memory. We’ll learn more in the video. Let’s get started…\n",
      "\n",
      "\n",
      "\n",
      "\n",
      "https://www.youtube.com/watch?v=mO_dS3rXDIs\n",
      "Python Tutorial: Calling External Commands Using the Subprocess Module\n",
      "\n",
      "In this Python Programming Tutorial, we will be learning how to run external commands using the subprocess module from the standard library. We will learn how to run commands, capture the output, handle errors, and also how to pipe output into other commands. Let’s get started…\n",
      "\n",
      "\n",
      "\n",
      "\n",
      "https://www.youtube.com/watch?v=2Fp1N6dof0Y\n",
      "Visual Studio Code (Windows) – Setting up a Python Development Environment and Complete Overview\n",
      "\n",
      "In this Python Programming Tutorial, we will be learning how to set up a Python development environment in VSCode on Windows. VSCode is a very nice free editor for writing Python applications and many developers are now switching over to this editor. In this video, we will learn how to install VSCode, get the Python extension installed, how to change Python interpreters, create virtual environments, format/lint our code, how to use Git within VSCode, how to debug our programs, how unit testing works, and more. We have a lot to cover, so let’s go ahead and get started…\n",
      "VSCode on MacOS – https://youtu.be/06I63_p-2A4\n",
      "Timestamps for topics in this tutorial: Installation – 1:13 Python Extension – 5:48 Switching Interpreters – 10:04 Changing Color Themes – 12:35 VSCode Settings – 16:16 Set Default Python – 21:33 Using Virtual Environments – 25:10 IntelliSense – 29:45 Code Formatting – 32:13 Code Linting – 37:06 Code Runner Extension – 39:42 Git Integration – 47:44 Use Different Terminal – 51:07 Debugging – 58:45 Unit Testing – 1:03:25 Zen Mode – 1:09:55\n",
      "\n",
      "\n",
      "\n",
      "\n",
      "https://www.youtube.com/watch?v=-nh9rCzPJ20\n",
      "Visual Studio Code (Mac) – Setting up a Python Development Environment and Complete Overview\n",
      "\n",
      "In this Python Programming Tutorial, we will be learning how to set up a Python development environment in VSCode on MacOS. VSCode is a very nice free editor for writing Python applications and many developers are now switching over to this editor. In this video, we will learn how to install VSCode, get the Python extension installed, how to change Python interpreters, create virtual environments, format/lint our code, how to use Git within VSCode, how to debug our programs, how unit testing works, and more. We have a lot to cover, so let’s go ahead and get started…\n",
      "VSCode on Windows – https://youtu.be/-nh9rCzPJ20\n",
      "Timestamps for topics in this tutorial: Installation – 1:11 Python Extension – 6:21 Switching Interpreters – 10:16 Changing Color Themes – 13:08 VSCode Settings – 17:12 Set Default Python – 22:24 Using Virtual Environments – 25:52 IntelliSense – 30:28 Code Formatting – 33:08 Code Linting – 38:01 Code Runner Extension – 40:45 Git Integration – 49:05 Debugging – 58:15 Unit Testing – 1:02:38 Zen Mode – 1:10:42 \n",
      "\n",
      "\n",
      "\n",
      "\n",
      "https://www.youtube.com/watch?v=06I63_p-2A4\n",
      "Clarifying the Issues with Mutable Default Arguments\n",
      "\n",
      "In this Python Programming Tutorial, we will be clarifying the issues with mutable default arguments. We discussed this in my last video titled “5 Common Python Mistakes and How to Fix Them”, but I received many comments from people who were still confused. So we will be doing a deeper dive to explain exactly what is going on here. Let’s get started…\n",
      "\n",
      "\n",
      "\n",
      "\n",
      "https://www.youtube.com/watch?v=_JGmemuINww\n"
     ]
    }
   ],
   "source": [
    "articles = soup.find_all('article')\n",
    "\n",
    "csv_file = open('Corey Schafer scrape.csv', 'w')\n",
    "\n",
    "csv_writer = csv.writer(csv_file)\n",
    "csv_writer.writerow(['Headline', 'Summary', 'Link to the video'])\n",
    "\n",
    "for article in articles:\n",
    "    \n",
    "    header = article.find('h2', class_='entry-title').text\n",
    "    print(header)\n",
    "    \n",
    "    summary = article.find('div', class_='entry-content').text\n",
    "    print(summary)\n",
    "    \n",
    "    try:\n",
    "        video_source = article.find('iframe', class_='youtube-player')\n",
    "        video_id = video_source['src'].split('/')[4].split('?')[0]\n",
    "        youtube_link = f'https://www.youtube.com/watch?v={video_id}'\n",
    "    except:\n",
    "        youtube_link = None\n",
    "    print(youtube_link)\n",
    "    \n",
    "\n",
    "    csv_writer.writerow([header, summary, youtube_link])\n",
    "    csv_writer.writerow('\\n')\n",
    "    \n",
    "csv_file.close()"
   ]
  },
  {
   "cell_type": "code",
   "execution_count": null,
   "metadata": {},
   "outputs": [],
   "source": [
    "%%time\n",
    "%whos"
   ]
  }
 ],
 "metadata": {
  "kernelspec": {
   "display_name": "Python 3",
   "language": "python",
   "name": "python3"
  },
  "language_info": {
   "codemirror_mode": {
    "name": "ipython",
    "version": 3
   },
   "file_extension": ".py",
   "mimetype": "text/x-python",
   "name": "python",
   "nbconvert_exporter": "python",
   "pygments_lexer": "ipython3",
   "version": "3.7.4"
  }
 },
 "nbformat": 4,
 "nbformat_minor": 2
}
