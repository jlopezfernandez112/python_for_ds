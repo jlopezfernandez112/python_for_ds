{
 "cells": [
  {
   "cell_type": "code",
   "execution_count": 40,
   "metadata": {},
   "outputs": [],
   "source": [
    "import random\n",
    "\n",
    "size = 10000\n",
    "p_1 = 0.3\n",
    "p_2 = 0.5\n",
    "\n",
    "\n",
    "def random_toss(p_1, p_2, size):\n",
    "    \n",
    "    p = random.choice([p_1, p_2])\n",
    "    \n",
    "    tosses = sum([random.random() > p for x in range(size)])\n",
    "    print(f'We got {tosses} heads')\n",
    "    \n",
    "    input('Press entre to know...')\n",
    "    \n",
    "    print(f'p = {1 - p}')"
   ]
  },
  {
   "cell_type": "code",
   "execution_count": 42,
   "metadata": {},
   "outputs": [
    {
     "name": "stdout",
     "output_type": "stream",
     "text": [
      "We got 6939 heads\n",
      "Press entre to know...\n",
      "p = 0.7\n"
     ]
    }
   ],
   "source": [
    "random_toss(p_1, p_2, size)"
   ]
  },
  {
   "cell_type": "code",
   "execution_count": null,
   "metadata": {},
   "outputs": [],
   "source": []
  }
 ],
 "metadata": {
  "kernelspec": {
   "display_name": "Python 3",
   "language": "python",
   "name": "python3"
  },
  "language_info": {
   "codemirror_mode": {
    "name": "ipython",
    "version": 3
   },
   "file_extension": ".py",
   "mimetype": "text/x-python",
   "name": "python",
   "nbconvert_exporter": "python",
   "pygments_lexer": "ipython3",
   "version": "3.7.4"
  }
 },
 "nbformat": 4,
 "nbformat_minor": 2
}
