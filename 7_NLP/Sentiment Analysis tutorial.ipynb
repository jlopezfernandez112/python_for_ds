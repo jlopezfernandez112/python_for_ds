{
 "cells": [
  {
   "cell_type": "markdown",
   "metadata": {},
   "source": [
    "# Sentiment Analysis tutorial\n",
    "Real Python [Tutorial](https://realpython.com/python-keras-text-classification/)\n",
    "\n",
    "Data taken from [here](https://archive.ics.uci.edu/ml/datasets/Sentiment+Labelled+Sentences#)"
   ]
  },
  {
   "cell_type": "code",
   "execution_count": 1,
   "metadata": {},
   "outputs": [],
   "source": [
    "import pandas as pd\n",
    "import numpy as np\n",
    "import matplotlib.pyplot as plt\n",
    "\n",
    "plt.style.use('seaborn')\n",
    "\n",
    "from zipfile import ZipFile"
   ]
  },
  {
   "cell_type": "code",
   "execution_count": 2,
   "metadata": {},
   "outputs": [],
   "source": [
    "path = 'C:/Users/Javi/00_raw_data/sentiment labelled sentences.zip'"
   ]
  },
  {
   "cell_type": "code",
   "execution_count": 3,
   "metadata": {},
   "outputs": [
    {
     "data": {
      "text/plain": [
       "12"
      ]
     },
     "execution_count": 3,
     "metadata": {},
     "output_type": "execute_result"
    }
   ],
   "source": [
    "zfile = ZipFile(path)\n",
    "len(zfile.filelist)"
   ]
  },
  {
   "cell_type": "code",
   "execution_count": 4,
   "metadata": {},
   "outputs": [],
   "source": [
    "# We are only interested in items 5, 6, 10. All of them txt files\n",
    "our_files = {5: 'Amazon', 6: 'IMDB', 10: 'Yelp'}\n",
    "columns = ['sentence', 'label']\n",
    "dfs = []\n",
    "\n",
    "for index, source in our_files.items():\n",
    "    \n",
    "    csv = zfile.open(zfile.filelist[index])\n",
    "    df = pd.read_csv(csv, names=columns, sep='\\t')\n",
    "    df['source'] = source\n",
    "    dfs.append(df)\n",
    "\n",
    "data = pd.concat(dfs, ignore_index=True)"
   ]
  },
  {
   "cell_type": "code",
   "execution_count": 5,
   "metadata": {},
   "outputs": [
    {
     "name": "stdout",
     "output_type": "stream",
     "text": [
      "(2748, 3)\n"
     ]
    },
    {
     "data": {
      "text/html": [
       "<div>\n",
       "<style scoped>\n",
       "    .dataframe tbody tr th:only-of-type {\n",
       "        vertical-align: middle;\n",
       "    }\n",
       "\n",
       "    .dataframe tbody tr th {\n",
       "        vertical-align: top;\n",
       "    }\n",
       "\n",
       "    .dataframe thead th {\n",
       "        text-align: right;\n",
       "    }\n",
       "</style>\n",
       "<table border=\"1\" class=\"dataframe\">\n",
       "  <thead>\n",
       "    <tr style=\"text-align: right;\">\n",
       "      <th></th>\n",
       "      <th>sentence</th>\n",
       "      <th>label</th>\n",
       "      <th>source</th>\n",
       "    </tr>\n",
       "  </thead>\n",
       "  <tbody>\n",
       "    <tr>\n",
       "      <th>0</th>\n",
       "      <td>So there is no way for me to plug it in here i...</td>\n",
       "      <td>0</td>\n",
       "      <td>Amazon</td>\n",
       "    </tr>\n",
       "    <tr>\n",
       "      <th>1</th>\n",
       "      <td>Good case, Excellent value.</td>\n",
       "      <td>1</td>\n",
       "      <td>Amazon</td>\n",
       "    </tr>\n",
       "    <tr>\n",
       "      <th>2</th>\n",
       "      <td>Great for the jawbone.</td>\n",
       "      <td>1</td>\n",
       "      <td>Amazon</td>\n",
       "    </tr>\n",
       "    <tr>\n",
       "      <th>3</th>\n",
       "      <td>Tied to charger for conversations lasting more...</td>\n",
       "      <td>0</td>\n",
       "      <td>Amazon</td>\n",
       "    </tr>\n",
       "    <tr>\n",
       "      <th>4</th>\n",
       "      <td>The mic is great.</td>\n",
       "      <td>1</td>\n",
       "      <td>Amazon</td>\n",
       "    </tr>\n",
       "  </tbody>\n",
       "</table>\n",
       "</div>"
      ],
      "text/plain": [
       "                                            sentence  label  source\n",
       "0  So there is no way for me to plug it in here i...      0  Amazon\n",
       "1                        Good case, Excellent value.      1  Amazon\n",
       "2                             Great for the jawbone.      1  Amazon\n",
       "3  Tied to charger for conversations lasting more...      0  Amazon\n",
       "4                                  The mic is great.      1  Amazon"
      ]
     },
     "execution_count": 5,
     "metadata": {},
     "output_type": "execute_result"
    }
   ],
   "source": [
    "print(data.shape)\n",
    "data.head()"
   ]
  },
  {
   "cell_type": "markdown",
   "metadata": {},
   "source": [
    "### How NLP works\n",
    "**Corpus:** The collection of texts.<br>\n",
    "**Vocabulary:** A list of words that occurred in our whole *corpus* where each word has its own index.<br>\n",
    "**Feature vector:** Represents a comment (text). It has the length of the vocabulary containing 1s & 0s.<br>\n",
    "**Bag of words (BOW):** All the vectors."
   ]
  },
  {
   "cell_type": "code",
   "execution_count": 6,
   "metadata": {},
   "outputs": [],
   "source": [
    "from sklearn.feature_extraction.text import CountVectorizer"
   ]
  },
  {
   "cell_type": "code",
   "execution_count": 7,
   "metadata": {},
   "outputs": [
    {
     "data": {
      "text/plain": [
       "{'John': 0, 'likes': 5, 'ice': 4, 'cream': 2, 'hates': 3, 'chocolate': 1}"
      ]
     },
     "execution_count": 7,
     "metadata": {},
     "output_type": "execute_result"
    }
   ],
   "source": [
    "# Let's see a simple example\n",
    "\n",
    "comments = ['John likes ice cream', 'John hates chocolate']\n",
    "\n",
    "vectorizer = CountVectorizer(min_df=0, lowercase=False)\n",
    "vectorizer.fit(comments)\n",
    "vectorizer.vocabulary_"
   ]
  },
  {
   "cell_type": "code",
   "execution_count": 8,
   "metadata": {},
   "outputs": [
    {
     "data": {
      "text/plain": [
       "array([[1, 0, 1, 0, 1, 1],\n",
       "       [1, 1, 0, 1, 0, 0]], dtype=int64)"
      ]
     },
     "execution_count": 8,
     "metadata": {},
     "output_type": "execute_result"
    }
   ],
   "source": [
    "vectorizer.transform(comments).toarray()"
   ]
  },
  {
   "cell_type": "markdown",
   "metadata": {},
   "source": [
    "### Baseline model\n",
    "Using `Scikit-Learn` *CountVectorizer*"
   ]
  },
  {
   "cell_type": "code",
   "execution_count": 9,
   "metadata": {},
   "outputs": [],
   "source": [
    "from sklearn.model_selection import train_test_split"
   ]
  },
  {
   "cell_type": "code",
   "execution_count": 10,
   "metadata": {},
   "outputs": [],
   "source": [
    "yelp = data[data['source'] == 'Yelp']"
   ]
  },
  {
   "cell_type": "code",
   "execution_count": 11,
   "metadata": {},
   "outputs": [],
   "source": [
    "comments = yelp['sentence'].values\n",
    "y = yelp['label'].values"
   ]
  },
  {
   "cell_type": "code",
   "execution_count": 12,
   "metadata": {},
   "outputs": [],
   "source": [
    "comments_train, comments_test, y_train, y_test = train_test_split(comments, y)"
   ]
  },
  {
   "cell_type": "code",
   "execution_count": 13,
   "metadata": {},
   "outputs": [
    {
     "data": {
      "text/plain": [
       "(numpy.ndarray, (750,))"
      ]
     },
     "execution_count": 13,
     "metadata": {},
     "output_type": "execute_result"
    }
   ],
   "source": [
    "type(comments_train), comments_train.shape"
   ]
  },
  {
   "cell_type": "code",
   "execution_count": 14,
   "metadata": {},
   "outputs": [],
   "source": [
    "from sklearn.feature_extraction.text import CountVectorizer\n",
    "\n",
    "vectorizer = CountVectorizer()\n",
    "vectorizer.fit(comments_train)\n",
    "\n",
    "X_train = vectorizer.transform(comments_train)\n",
    "X_test = vectorizer.transform(comments_test)"
   ]
  },
  {
   "cell_type": "code",
   "execution_count": 15,
   "metadata": {},
   "outputs": [
    {
     "data": {
      "text/plain": [
       "<750x1739 sparse matrix of type '<class 'numpy.int64'>'\n",
       "\twith 7273 stored elements in Compressed Sparse Row format>"
      ]
     },
     "execution_count": 15,
     "metadata": {},
     "output_type": "execute_result"
    }
   ],
   "source": [
    "X_train"
   ]
  },
  {
   "cell_type": "code",
   "execution_count": 16,
   "metadata": {},
   "outputs": [
    {
     "data": {
      "text/plain": [
       "1739"
      ]
     },
     "execution_count": 16,
     "metadata": {},
     "output_type": "execute_result"
    }
   ],
   "source": [
    "len(vectorizer.vocabulary_)"
   ]
  },
  {
   "cell_type": "code",
   "execution_count": 17,
   "metadata": {},
   "outputs": [
    {
     "data": {
      "text/plain": [
       "(750, 1739)"
      ]
     },
     "execution_count": 17,
     "metadata": {},
     "output_type": "execute_result"
    }
   ],
   "source": [
    "X_train.toarray().shape"
   ]
  },
  {
   "cell_type": "markdown",
   "metadata": {},
   "source": [
    "`CountVectorizer` performs tokenization which separates the sentences into a set of **tokens** as you saw previously in the vocabulary. It additionally removes punctuation and special characters and can apply other preprocessing to each word. If you want, you can use a custom tokenizer from the [NLTK](https://realpython.com/python-nltk-sentiment-analysis/) library with the *CountVectorizer* or use any number of the customizations which you can explore to improve the performance of your model (specify *StopWords*, etc)."
   ]
  },
  {
   "cell_type": "markdown",
   "metadata": {},
   "source": [
    "### Logistic Regression"
   ]
  },
  {
   "cell_type": "code",
   "execution_count": 18,
   "metadata": {},
   "outputs": [
    {
     "data": {
      "text/plain": [
       "(0.988, 0.812)"
      ]
     },
     "execution_count": 18,
     "metadata": {},
     "output_type": "execute_result"
    }
   ],
   "source": [
    "from sklearn.linear_model import LogisticRegression\n",
    "\n",
    "classifier = LogisticRegression().fit(X_train, y_train)\n",
    "# Accuracy\n",
    "classifier.score(X_train, y_train), classifier.score(X_test, y_test)"
   ]
  },
  {
   "cell_type": "markdown",
   "metadata": {},
   "source": [
    "Let's make a script that iterate over each DataFrame and gets accuracy LogisticRegressor scores for us."
   ]
  },
  {
   "cell_type": "code",
   "execution_count": 43,
   "metadata": {},
   "outputs": [],
   "source": [
    "def log_reg():\n",
    "    # Iterates over each source\n",
    "    for source in data['source'].unique():\n",
    "        # Preparing sets\n",
    "        df = data[data['source'] == source]\n",
    "        comments = df['sentence'].values\n",
    "        y = df['label'].values\n",
    "        # Splits\n",
    "        comments_train, comments_test, y_train, y_test = train_test_split(comments, y, random_state=42)\n",
    "        # Tokenizing sets\n",
    "        vectorizer = CountVectorizer()\n",
    "        vectorizer.fit(comments_train)\n",
    "        X_train = vectorizer.transform(comments_train)\n",
    "        X_test = vectorizer.transform(comments_test)\n",
    "        # Training the model\n",
    "        classifier = LogisticRegression().fit(X_train, y_train)\n",
    "        # Printing the score (accuracy)\n",
    "        print(source)\n",
    "        print(f'\\tTrain Score: {round(classifier.score(X_train, y_train), 3)}')\n",
    "        print(f'\\tTest Score: {round(classifier.score(X_test, y_test), 3)}')"
   ]
  },
  {
   "cell_type": "code",
   "execution_count": 44,
   "metadata": {},
   "outputs": [
    {
     "name": "stdout",
     "output_type": "stream",
     "text": [
      "Amazon\n",
      "\tTrain Score: 0.996\n",
      "\tTest Score: 0.844\n",
      "IMDB\n",
      "\tTrain Score: 0.991\n",
      "\tTest Score: 0.727\n",
      "Yelp\n",
      "\tTrain Score: 0.991\n",
      "\tTest Score: 0.816\n"
     ]
    }
   ],
   "source": [
    "log_reg()"
   ]
  },
  {
   "cell_type": "markdown",
   "metadata": {},
   "source": [
    "### Naive Bayes\n",
    "This classifier is widely used in Sentiment Analysis. Let's see if we can get a higher score."
   ]
  },
  {
   "cell_type": "code",
   "execution_count": 38,
   "metadata": {},
   "outputs": [],
   "source": [
    "from sklearn.naive_bayes import MultinomialNB, BernoulliNB, GaussianNB"
   ]
  },
  {
   "cell_type": "code",
   "execution_count": 45,
   "metadata": {},
   "outputs": [],
   "source": [
    "def naive_bayes():\n",
    "    # Iterates over each source\n",
    "    for source in data['source'].unique():\n",
    "        # Preparing sets\n",
    "        df = data[data['source'] == source]\n",
    "        comments = df['sentence'].values\n",
    "        y = df['label'].values\n",
    "        # Splits\n",
    "        comments_train, comments_test, y_train, y_test = train_test_split(comments, y, random_state=42)\n",
    "        # Tokenizing sets\n",
    "        vectorizer = CountVectorizer()\n",
    "        vectorizer.fit(comments_train)\n",
    "        X_train = vectorizer.transform(comments_train)\n",
    "        X_test = vectorizer.transform(comments_test)\n",
    "        # Training the model\n",
    "        classifier = MultinomialNB().fit(X_train, y_train)\n",
    "        # Printing the score (accuracy)\n",
    "        print(source)\n",
    "        print(f'\\tTrain Score: {round(classifier.score(X_train, y_train), 3)}')\n",
    "        print(f'\\tTest Score: {round(classifier.score(X_test, y_test), 3)}')"
   ]
  },
  {
   "cell_type": "code",
   "execution_count": 46,
   "metadata": {},
   "outputs": [
    {
     "name": "stdout",
     "output_type": "stream",
     "text": [
      "Amazon\n",
      "\tTrain Score: 0.969\n",
      "\tTest Score: 0.84\n",
      "IMDB\n",
      "\tTrain Score: 0.975\n",
      "\tTest Score: 0.743\n",
      "Yelp\n",
      "\tTrain Score: 0.955\n",
      "\tTest Score: 0.804\n"
     ]
    }
   ],
   "source": [
    "naive_bayes()"
   ]
  },
  {
   "cell_type": "markdown",
   "metadata": {},
   "source": [
    "### Deep Learning"
   ]
  },
  {
   "cell_type": "code",
   "execution_count": 47,
   "metadata": {},
   "outputs": [],
   "source": [
    "from tensorflow.keras import models\n",
    "from tensorflow.keras import layers\n",
    "from tensorflow.keras import Input\n",
    "from tensorflow.keras import optimizers\n",
    "from tensorflow.keras import losses\n",
    "from tensorflow.keras import metrics"
   ]
  },
  {
   "cell_type": "code",
   "execution_count": 50,
   "metadata": {},
   "outputs": [],
   "source": [
    "from tensorflow.keras.backend import clear_session\n",
    "clear_session()"
   ]
  },
  {
   "cell_type": "code",
   "execution_count": 51,
   "metadata": {},
   "outputs": [],
   "source": [
    "# Number of features\n",
    "input_shape = X_train[0].shape[1]\n",
    "\n",
    "model = models.Sequential()\n",
    "\n",
    "model.add(Input(shape=input_shape))\n",
    "model.add(layers.Dense(10, activation='relu'))\n",
    "model.add(layers.Dense(1, activation='sigmoid'))"
   ]
  },
  {
   "cell_type": "code",
   "execution_count": 54,
   "metadata": {},
   "outputs": [
    {
     "name": "stdout",
     "output_type": "stream",
     "text": [
      "Model: \"sequential\"\n",
      "_________________________________________________________________\n",
      "Layer (type)                 Output Shape              Param #   \n",
      "=================================================================\n",
      "dense (Dense)                (None, 10)                17180     \n",
      "_________________________________________________________________\n",
      "dense_1 (Dense)              (None, 1)                 11        \n",
      "=================================================================\n",
      "Total params: 17,191\n",
      "Trainable params: 17,191\n",
      "Non-trainable params: 0\n",
      "_________________________________________________________________\n"
     ]
    }
   ],
   "source": [
    "model.compile(loss='binary_crossentropy',\n",
    "              optimizer='adam',\n",
    "              metrics=['accuracy'])\n",
    "model.summary()"
   ]
  },
  {
   "cell_type": "markdown",
   "metadata": {},
   "source": [
    "Since the training in neural networks is an iterative process, the training won’t just stop after it is done. You have to specify the number of iterations you want the model to be training. Those completed iterations are commonly called **epochs**. We want to run it for 100 epochs to be able to see how the training loss and accuracy are changing after each epoch.\n",
    "\n",
    "Another parameter you have to your selection is the batch size. The **batch size** is responsible for how many samples we want to use in one epoch, which means how many samples are used in one forward/backward pass. This increases the speed of the computation as it need fewer epochs to run, but it also needs more memory, and the model may degrade with larger batch sizes. Since we have a small training set, we can leave this to a low batch size."
   ]
  },
  {
   "cell_type": "code",
   "execution_count": 55,
   "metadata": {},
   "outputs": [
    {
     "name": "stdout",
     "output_type": "stream",
     "text": [
      "Train on 675 samples, validate on 75 samples\n",
      "Epoch 1/20\n",
      "675/675 [==============================] - 0s 563us/sample - loss: 0.6868 - acc: 0.5867 - val_loss: 0.6714 - val_acc: 0.7067\n",
      "Epoch 2/20\n",
      "675/675 [==============================] - 0s 209us/sample - loss: 0.6348 - acc: 0.7896 - val_loss: 0.6206 - val_acc: 0.8133\n",
      "Epoch 3/20\n",
      "675/675 [==============================] - 0s 214us/sample - loss: 0.5434 - acc: 0.8622 - val_loss: 0.5602 - val_acc: 0.8400\n",
      "Epoch 4/20\n",
      "675/675 [==============================] - 0s 221us/sample - loss: 0.4379 - acc: 0.9111 - val_loss: 0.5047 - val_acc: 0.8533\n",
      "Epoch 5/20\n",
      "675/675 [==============================] - 0s 269us/sample - loss: 0.3467 - acc: 0.9467 - val_loss: 0.4647 - val_acc: 0.8667\n",
      "Epoch 6/20\n",
      "675/675 [==============================] - 0s 233us/sample - loss: 0.2763 - acc: 0.9615 - val_loss: 0.4288 - val_acc: 0.8933\n",
      "Epoch 7/20\n",
      "675/675 [==============================] - 0s 272us/sample - loss: 0.2224 - acc: 0.9763 - val_loss: 0.4020 - val_acc: 0.8933\n",
      "Epoch 8/20\n",
      "675/675 [==============================] - 0s 248us/sample - loss: 0.1816 - acc: 0.9837 - val_loss: 0.3832 - val_acc: 0.9067\n",
      "Epoch 9/20\n",
      "675/675 [==============================] - 0s 256us/sample - loss: 0.1498 - acc: 0.9867 - val_loss: 0.3659 - val_acc: 0.8933\n",
      "Epoch 10/20\n",
      "675/675 [==============================] - 0s 261us/sample - loss: 0.1255 - acc: 0.9911 - val_loss: 0.3533 - val_acc: 0.8933\n",
      "Epoch 11/20\n",
      "675/675 [==============================] - 0s 251us/sample - loss: 0.1055 - acc: 0.9911 - val_loss: 0.3425 - val_acc: 0.8933\n",
      "Epoch 12/20\n",
      "675/675 [==============================] - 0s 252us/sample - loss: 0.0895 - acc: 0.9941 - val_loss: 0.3339 - val_acc: 0.8933\n",
      "Epoch 13/20\n",
      "675/675 [==============================] - 0s 263us/sample - loss: 0.0764 - acc: 0.9985 - val_loss: 0.3280 - val_acc: 0.8933\n",
      "Epoch 14/20\n",
      "675/675 [==============================] - 0s 232us/sample - loss: 0.0659 - acc: 0.9985 - val_loss: 0.3211 - val_acc: 0.8933\n",
      "Epoch 15/20\n",
      "675/675 [==============================] - 0s 227us/sample - loss: 0.0570 - acc: 1.0000 - val_loss: 0.3190 - val_acc: 0.8933\n",
      "Epoch 16/20\n",
      "675/675 [==============================] - 0s 248us/sample - loss: 0.0498 - acc: 1.0000 - val_loss: 0.3121 - val_acc: 0.8933\n",
      "Epoch 17/20\n",
      "675/675 [==============================] - 0s 261us/sample - loss: 0.0437 - acc: 1.0000 - val_loss: 0.3117 - val_acc: 0.8933\n",
      "Epoch 18/20\n",
      "675/675 [==============================] - 0s 251us/sample - loss: 0.0385 - acc: 1.0000 - val_loss: 0.3112 - val_acc: 0.8933\n",
      "Epoch 19/20\n",
      "675/675 [==============================] - 0s 262us/sample - loss: 0.0341 - acc: 1.0000 - val_loss: 0.3102 - val_acc: 0.8933\n",
      "Epoch 20/20\n",
      "675/675 [==============================] - 0s 226us/sample - loss: 0.0304 - acc: 1.0000 - val_loss: 0.3092 - val_acc: 0.8933\n"
     ]
    }
   ],
   "source": [
    "# Train the model\n",
    "history = model.fit(X_train.toarray(), y_train, epochs=20, batch_size=10, validation_split=0.1)"
   ]
  },
  {
   "cell_type": "code",
   "execution_count": 56,
   "metadata": {},
   "outputs": [
    {
     "name": "stdout",
     "output_type": "stream",
     "text": [
      "250/250 [==============================] - 0s 34us/sample - loss: 0.4954 - acc: 0.7920\n"
     ]
    },
    {
     "data": {
      "text/plain": [
       "(0.4953701300621033, 0.792)"
      ]
     },
     "execution_count": 56,
     "metadata": {},
     "output_type": "execute_result"
    }
   ],
   "source": [
    "loss, accuracy = model.evaluate(X_test, y_test)\n",
    "loss, accuracy"
   ]
  },
  {
   "cell_type": "code",
   "execution_count": 57,
   "metadata": {},
   "outputs": [
    {
     "data": {
      "text/plain": [
       "tensorflow.python.keras.callbacks.History"
      ]
     },
     "execution_count": 57,
     "metadata": {},
     "output_type": "execute_result"
    }
   ],
   "source": [
    "type(history)"
   ]
  },
  {
   "cell_type": "code",
   "execution_count": 58,
   "metadata": {},
   "outputs": [],
   "source": [
    "def plot_history(history):\n",
    "    acc = history.history['acc']\n",
    "    val_acc = history.history['val_acc']\n",
    "    loss = history.history['loss']\n",
    "    val_loss = history.history['val_loss']\n",
    "    x = range(1, len(acc) + 1)\n",
    "\n",
    "    plt.figure(figsize=(12, 5))\n",
    "    plt.subplot(1, 2, 1)\n",
    "    plt.plot(x, acc, 'r', label='Training acc')\n",
    "    plt.plot(x, val_acc, 'b', label='Validation acc')\n",
    "    plt.title('Training and validation accuracy')\n",
    "    plt.legend()\n",
    "    plt.subplot(1, 2, 2)\n",
    "    plt.plot(x, loss, 'r', label='Training loss')\n",
    "    plt.plot(x, val_loss, 'b', label='Validation loss')\n",
    "    plt.title('Training and validation loss')\n",
    "    plt.legend()"
   ]
  },
  {
   "cell_type": "code",
   "execution_count": 59,
   "metadata": {},
   "outputs": [
    {
     "data": {
      "image/png": "[encoded data removed]",
      "text/plain": [
       "<Figure size 864x360 with 2 Axes>"
      ]
     },
     "metadata": {
      "needs_background": "light"
     },
     "output_type": "display_data"
    }
   ],
   "source": [
    "plot_history(history)"
   ]
  },
  {
   "cell_type": "markdown",
   "metadata": {},
   "source": [
    "A good way to see when the model starts overfitting is when the loss of the validation data starts rising again. This tends to be a good point to stop the model."
   ]
  },
  {
   "cell_type": "markdown",
   "metadata": {},
   "source": [
    "**Note:** When training neural networks, you should use a separate testing and validation set. What you would usually do is take the model with the highest validation accuracy and then test the model with the testing set.\n",
    "\n",
    "This makes sure that you don’t overfit the model. Using the validation set to choose the best model is a form of data leakage (or “cheating”) to get to pick the result that produced the best test score out of hundreds of them. Data leakage happens when information outside the training data set is used in the model."
   ]
  },
  {
   "cell_type": "markdown",
   "metadata": {},
   "source": [
    "### Word Embedding\n",
    "Using `TensorFlow` *Tokenizer*"
   ]
  },
  {
   "cell_type": "code",
   "execution_count": 60,
   "metadata": {},
   "outputs": [],
   "source": [
    "from tensorflow.keras.preprocessing.text import Tokenizer\n",
    "\n",
    "tokenizer = Tokenizer(num_words=10000)\n",
    "tokenizer.fit_on_texts(comments_train)\n",
    "\n",
    "X_train = tokenizer.texts_to_sequences(comments_train)\n",
    "X_test = tokenizer.texts_to_sequences(comments_test)"
   ]
  },
  {
   "cell_type": "code",
   "execution_count": 63,
   "metadata": {},
   "outputs": [
    {
     "name": "stdout",
     "output_type": "stream",
     "text": [
      "This is a GREAT place to eat!\n",
      "[8, 7, 5, 23, 15, 6, 97]\n"
     ]
    }
   ],
   "source": [
    "# Each vector from X_train contains integers and it's the same length as the original comment\n",
    "# Those integers represent indexes from \"tokenizer.word_index\",  which is our dictionary\n",
    "print(comments_train[2])\n",
    "print(X_train[2])"
   ]
  },
  {
   "cell_type": "code",
   "execution_count": 68,
   "metadata": {},
   "outputs": [
    {
     "name": "stdout",
     "output_type": "stream",
     "text": [
      "1748\n"
     ]
    },
    {
     "data": {
      "text/plain": [
       "{'the': 1,\n",
       " 'and': 2,\n",
       " 'i': 3,\n",
       " 'was': 4,\n",
       " 'a': 5,\n",
       " 'to': 6,\n",
       " 'is': 7,\n",
       " 'this': 8,\n",
       " 'it': 9,\n",
       " 'of': 10,\n",
       " 'food': 11,\n",
       " 'not': 12,\n",
       " 'for': 13,\n",
       " 'good': 14,\n",
       " 'place': 15,\n",
       " 'in': 16,\n",
       " 'service': 17,\n",
       " 'very': 18,\n",
       " 'with': 19,\n",
       " 'that': 20,\n",
       " 'we': 21,\n",
       " 'my': 22,\n",
       " 'great': 23,\n",
       " 'but': 24,\n",
       " 'so': 25,\n",
       " 'have': 26,\n",
       " 'were': 27,\n",
       " 'had': 28,\n",
       " 'are': 29,\n",
       " 'they': 30,\n",
       " 'you': 31,\n",
       " 'back': 32,\n",
       " 'be': 33,\n",
       " 'on': 34,\n",
       " 'at': 35,\n",
       " 'all': 36,\n",
       " 'here': 37,\n",
       " 'go': 38,\n",
       " 'as': 39,\n",
       " 'there': 40,\n",
       " 'like': 41,\n",
       " 'our': 42,\n",
       " 'really': 43,\n",
       " 'if': 44,\n",
       " 'will': 45,\n",
       " 'time': 46,\n",
       " 'their': 47,\n",
       " 'ever': 48,\n",
       " 'friendly': 49,\n",
       " 'would': 50,\n",
       " 'restaurant': 51,\n",
       " 'just': 52,\n",
       " \"don't\": 53,\n",
       " 'one': 54,\n",
       " 'out': 55,\n",
       " 'also': 56,\n",
       " 'best': 57,\n",
       " 'from': 58,\n",
       " 'only': 59,\n",
       " 'never': 60,\n",
       " 'an': 61,\n",
       " 'amazing': 62,\n",
       " 'up': 63,\n",
       " 'pretty': 64,\n",
       " 'delicious': 65,\n",
       " 'some': 66,\n",
       " 'what': 67,\n",
       " 'been': 68,\n",
       " 'no': 69,\n",
       " 'again': 70,\n",
       " 'did': 71,\n",
       " 'nice': 72,\n",
       " 'which': 73,\n",
       " \"i've\": 74,\n",
       " 'by': 75,\n",
       " \"i'm\": 76,\n",
       " 'definitely': 77,\n",
       " 'get': 78,\n",
       " 'your': 79,\n",
       " 'got': 80,\n",
       " 'even': 81,\n",
       " 'always': 82,\n",
       " 'staff': 83,\n",
       " 'much': 84,\n",
       " 'bad': 85,\n",
       " 'chicken': 86,\n",
       " 'better': 87,\n",
       " 'minutes': 88,\n",
       " 'worst': 89,\n",
       " 'came': 90,\n",
       " 'or': 91,\n",
       " 'can': 92,\n",
       " 'made': 93,\n",
       " 'them': 94,\n",
       " 'think': 95,\n",
       " 'us': 96,\n",
       " 'eat': 97,\n",
       " 'quality': 98,\n",
       " 'vegas': 99,\n",
       " 'salad': 100,\n",
       " 'love': 101,\n",
       " 'too': 102,\n",
       " 'well': 103,\n",
       " 'fresh': 104,\n",
       " 'than': 105,\n",
       " 'flavor': 106,\n",
       " 'when': 107,\n",
       " 'disappointed': 108,\n",
       " 'being': 109,\n",
       " 'experience': 110,\n",
       " 'me': 111,\n",
       " 'say': 112,\n",
       " 'other': 113,\n",
       " 'pizza': 114,\n",
       " 'way': 115,\n",
       " \"wasn't\": 116,\n",
       " 'now': 117,\n",
       " 'steak': 118,\n",
       " 'any': 119,\n",
       " 'went': 120,\n",
       " 'menu': 121,\n",
       " 'how': 122,\n",
       " 'enough': 123,\n",
       " 'more': 124,\n",
       " \"won't\": 125,\n",
       " 'sushi': 126,\n",
       " 'about': 127,\n",
       " 'bland': 128,\n",
       " 'times': 129,\n",
       " 'sauce': 130,\n",
       " 'going': 131,\n",
       " \"it's\": 132,\n",
       " 'atmosphere': 133,\n",
       " 'after': 134,\n",
       " 'has': 135,\n",
       " 'waited': 136,\n",
       " 'stars': 137,\n",
       " 'could': 138,\n",
       " 'burger': 139,\n",
       " 'because': 140,\n",
       " 'prices': 141,\n",
       " 'slow': 142,\n",
       " 'want': 143,\n",
       " \"didn't\": 144,\n",
       " 'fantastic': 145,\n",
       " 'meal': 146,\n",
       " 'sandwich': 147,\n",
       " 'do': 148,\n",
       " 'recommend': 149,\n",
       " 'next': 150,\n",
       " 'server': 151,\n",
       " 'he': 152,\n",
       " 'tasted': 153,\n",
       " 'know': 154,\n",
       " 'little': 155,\n",
       " 'awesome': 156,\n",
       " 'meat': 157,\n",
       " 'down': 158,\n",
       " 'spicy': 159,\n",
       " 'over': 160,\n",
       " 'probably': 161,\n",
       " 'few': 162,\n",
       " 'come': 163,\n",
       " 'coming': 164,\n",
       " 'ordered': 165,\n",
       " '2': 166,\n",
       " 'still': 167,\n",
       " 'right': 168,\n",
       " 'absolutely': 169,\n",
       " 'nothing': 170,\n",
       " 'first': 171,\n",
       " 'buffet': 172,\n",
       " 'everything': 173,\n",
       " 'perfect': 174,\n",
       " 'spot': 175,\n",
       " 'take': 176,\n",
       " 'felt': 177,\n",
       " 'getting': 178,\n",
       " 'far': 179,\n",
       " 'tasty': 180,\n",
       " 'lunch': 181,\n",
       " 'special': 182,\n",
       " 'loved': 183,\n",
       " 'feel': 184,\n",
       " 'chips': 185,\n",
       " 'breakfast': 186,\n",
       " 'taste': 187,\n",
       " 'impressed': 188,\n",
       " 'said': 189,\n",
       " 'wait': 190,\n",
       " 'order': 191,\n",
       " 'selection': 192,\n",
       " 'while': 193,\n",
       " 'fries': 194,\n",
       " \"can't\": 195,\n",
       " 'thing': 196,\n",
       " 'happy': 197,\n",
       " 'bar': 198,\n",
       " 'terrible': 199,\n",
       " 'sure': 200,\n",
       " 'side': 201,\n",
       " 'excellent': 202,\n",
       " 'super': 203,\n",
       " \"i'll\": 204,\n",
       " 'seriously': 205,\n",
       " 'clean': 206,\n",
       " '5': 207,\n",
       " 'who': 208,\n",
       " 'try': 209,\n",
       " 'should': 210,\n",
       " 'family': 211,\n",
       " 'two': 212,\n",
       " 'soon': 213,\n",
       " 'dish': 214,\n",
       " 'give': 215,\n",
       " 'day': 216,\n",
       " 'off': 217,\n",
       " 'she': 218,\n",
       " 'cold': 219,\n",
       " 'since': 220,\n",
       " 'shrimp': 221,\n",
       " 'both': 222,\n",
       " 'another': 223,\n",
       " 'tried': 224,\n",
       " 'warm': 225,\n",
       " 'wonderful': 226,\n",
       " 'around': 227,\n",
       " 'table': 228,\n",
       " 'beer': 229,\n",
       " 'overpriced': 230,\n",
       " 'hot': 231,\n",
       " 'waitress': 232,\n",
       " 'eating': 233,\n",
       " 'inside': 234,\n",
       " 'huge': 235,\n",
       " 'full': 236,\n",
       " 'quite': 237,\n",
       " 'done': 238,\n",
       " 'make': 239,\n",
       " 'home': 240,\n",
       " 'people': 241,\n",
       " 'overall': 242,\n",
       " 'mediocre': 243,\n",
       " 'hit': 244,\n",
       " 'town': 245,\n",
       " 'cooked': 246,\n",
       " 'dinner': 247,\n",
       " 'beef': 248,\n",
       " 'attentive': 249,\n",
       " 'waiting': 250,\n",
       " 'her': 251,\n",
       " 'waiter': 252,\n",
       " 'many': 253,\n",
       " 'places': 254,\n",
       " 'found': 255,\n",
       " 'dishes': 256,\n",
       " 'must': 257,\n",
       " 'check': 258,\n",
       " 'poor': 259,\n",
       " 'bit': 260,\n",
       " 'either': 261,\n",
       " 'tables': 262,\n",
       " 'lot': 263,\n",
       " 'then': 264,\n",
       " 'servers': 265,\n",
       " 'took': 266,\n",
       " '30': 267,\n",
       " 'deal': 268,\n",
       " 'price': 269,\n",
       " 'tender': 270,\n",
       " 'authentic': 271,\n",
       " 'potato': 272,\n",
       " 'customer': 273,\n",
       " 'may': 274,\n",
       " 'enjoy': 275,\n",
       " 'served': 276,\n",
       " 'hour': 277,\n",
       " 'left': 278,\n",
       " 'wrong': 279,\n",
       " 'fast': 280,\n",
       " 'reasonable': 281,\n",
       " 'considering': 282,\n",
       " 'asked': 283,\n",
       " 'old': 284,\n",
       " '1': 285,\n",
       " 'piece': 286,\n",
       " 'waste': 287,\n",
       " \"i'd\": 288,\n",
       " 'soup': 289,\n",
       " 'thai': 290,\n",
       " 'worth': 291,\n",
       " 'business': 292,\n",
       " 'night': 293,\n",
       " 'itself': 294,\n",
       " 'expect': 295,\n",
       " 'dry': 296,\n",
       " 'once': 297,\n",
       " 'owners': 298,\n",
       " 'elsewhere': 299,\n",
       " 'quick': 300,\n",
       " 'return': 301,\n",
       " 'helpful': 302,\n",
       " 'wine': 303,\n",
       " 'small': 304,\n",
       " 'sick': 305,\n",
       " 'new': 306,\n",
       " 'portions': 307,\n",
       " 'look': 308,\n",
       " 'disappointing': 309,\n",
       " 'talk': 310,\n",
       " 'manager': 311,\n",
       " 'dining': 312,\n",
       " 'these': 313,\n",
       " 'fish': 314,\n",
       " 'seafood': 315,\n",
       " 'drinks': 316,\n",
       " 'before': 317,\n",
       " 'area': 318,\n",
       " 'see': 319,\n",
       " 'rude': 320,\n",
       " 'bread': 321,\n",
       " 'sweet': 322,\n",
       " 'tell': 323,\n",
       " 'wings': 324,\n",
       " 'his': 325,\n",
       " 'large': 326,\n",
       " 'bring': 327,\n",
       " 'money': 328,\n",
       " 'every': 329,\n",
       " 'incredible': 330,\n",
       " 'am': 331,\n",
       " 'enjoyed': 332,\n",
       " 'friends': 333,\n",
       " 'ice': 334,\n",
       " 'cream': 335,\n",
       " 'sat': 336,\n",
       " 'vegetables': 337,\n",
       " 'folks': 338,\n",
       " 'pay': 339,\n",
       " 'twice': 340,\n",
       " 'today': 341,\n",
       " 'chef': 342,\n",
       " 'kind': 343,\n",
       " 'bacon': 344,\n",
       " 'something': 345,\n",
       " 'barely': 346,\n",
       " 'fried': 347,\n",
       " 'options': 348,\n",
       " 'job': 349,\n",
       " '4': 350,\n",
       " 'where': 351,\n",
       " 'brought': 352,\n",
       " 'chewy': 353,\n",
       " 'busy': 354,\n",
       " 'why': 355,\n",
       " 'leave': 356,\n",
       " 'rather': 357,\n",
       " 'damn': 358,\n",
       " 'greek': 359,\n",
       " 'visit': 360,\n",
       " 'someone': 361,\n",
       " 'vibe': 362,\n",
       " 'away': 363,\n",
       " 'tacos': 364,\n",
       " 'pork': 365,\n",
       " 'yummy': 366,\n",
       " 'burgers': 367,\n",
       " 'used': 368,\n",
       " 'wanted': 369,\n",
       " 'house': 370,\n",
       " 'bathroom': 371,\n",
       " 'anytime': 372,\n",
       " 'extremely': 373,\n",
       " 'deserves': 374,\n",
       " 'beat': 375,\n",
       " 'zero': 376,\n",
       " \"wouldn't\": 377,\n",
       " '10': 378,\n",
       " 'ate': 379,\n",
       " 'treated': 380,\n",
       " 'possible': 381,\n",
       " 'list': 382,\n",
       " 'egg': 383,\n",
       " 'especially': 384,\n",
       " 'long': 385,\n",
       " 'salsa': 386,\n",
       " 'unfortunately': 387,\n",
       " 'beans': 388,\n",
       " 'stale': 389,\n",
       " 'received': 390,\n",
       " 'everyone': 391,\n",
       " 'equally': 392,\n",
       " 'couple': 393,\n",
       " 'ambiance': 394,\n",
       " 'outside': 395,\n",
       " 'dirty': 396,\n",
       " 'such': 397,\n",
       " 'each': 398,\n",
       " 'pho': 399,\n",
       " 'disappointment': 400,\n",
       " 'him': 401,\n",
       " 'unless': 402,\n",
       " 'tea': 403,\n",
       " 'hard': 404,\n",
       " 'highly': 405,\n",
       " 'hummus': 406,\n",
       " 'lacked': 407,\n",
       " 'gone': 408,\n",
       " 'insulted': 409,\n",
       " 'recommendation': 410,\n",
       " 'yourself': 411,\n",
       " 'stay': 412,\n",
       " 'desserts': 413,\n",
       " 'dessert': 414,\n",
       " 'ambience': 415,\n",
       " 'thin': 416,\n",
       " 'melt': 417,\n",
       " 'fine': 418,\n",
       " 'tip': 419,\n",
       " 'healthy': 420,\n",
       " 'sad': 421,\n",
       " 'drink': 422,\n",
       " 'green': 423,\n",
       " 'salmon': 424,\n",
       " 'salt': 425,\n",
       " '8': 426,\n",
       " 'rice': 427,\n",
       " 'butter': 428,\n",
       " 'real': 429,\n",
       " 'heart': 430,\n",
       " 'pizzas': 431,\n",
       " 'homemade': 432,\n",
       " 'location': 433,\n",
       " 'least': 434,\n",
       " 'recommended': 435,\n",
       " 'during': 436,\n",
       " '20': 437,\n",
       " 'else': 438,\n",
       " 'close': 439,\n",
       " 'cheese': 440,\n",
       " 'sucks': 441,\n",
       " 'phoenix': 442,\n",
       " 'horrible': 443,\n",
       " 'kept': 444,\n",
       " 'white': 445,\n",
       " 'edible': 446,\n",
       " 'totally': 447,\n",
       " 'tasteless': 448,\n",
       " 'cool': 449,\n",
       " 'those': 450,\n",
       " 'regular': 451,\n",
       " 'delish': 452,\n",
       " 'fun': 453,\n",
       " 'drive': 454,\n",
       " 'things': 455,\n",
       " 'management': 456,\n",
       " 'pita': 457,\n",
       " 'sashimi': 458,\n",
       " 'live': 459,\n",
       " 'worse': 460,\n",
       " 'impeccable': 461,\n",
       " 'bug': 462,\n",
       " 'given': 463,\n",
       " 'wall': 464,\n",
       " 'mall': 465,\n",
       " 'cow': 466,\n",
       " '3': 467,\n",
       " 'dressing': 468,\n",
       " 'creamy': 469,\n",
       " 'flavorful': 470,\n",
       " 'cute': 471,\n",
       " 'simple': 472,\n",
       " 'disappoint': 473,\n",
       " 'potatoes': 474,\n",
       " 'three': 475,\n",
       " 'different': 476,\n",
       " 'mayo': 477,\n",
       " 'cook': 478,\n",
       " 'similar': 479,\n",
       " 'empty': 480,\n",
       " 'tap': 481,\n",
       " 'thought': 482,\n",
       " \"you'd\": 483,\n",
       " 'guess': 484,\n",
       " 'known': 485,\n",
       " 'suck': 486,\n",
       " 'use': 487,\n",
       " 'perfection': 488,\n",
       " 'sliced': 489,\n",
       " 'pulled': 490,\n",
       " 'wife': 491,\n",
       " 'lobster': 492,\n",
       " 'bisque': 493,\n",
       " 'lukewarm': 494,\n",
       " 'playing': 495,\n",
       " 'trip': 496,\n",
       " \"aren't\": 497,\n",
       " 'flavorless': 498,\n",
       " 'rated': 499,\n",
       " 'roast': 500,\n",
       " 'mid': 501,\n",
       " 'disgusting': 502,\n",
       " 'running': 503,\n",
       " 'portion': 504,\n",
       " 'meh': 505,\n",
       " 'station': 506,\n",
       " 'rarely': 507,\n",
       " 'color': 508,\n",
       " 'touch': 509,\n",
       " 'dirt': 510,\n",
       " 'fan': 511,\n",
       " 'crazy': 512,\n",
       " 'downtown': 513,\n",
       " \"we're\": 514,\n",
       " 'husband': 515,\n",
       " 'arrived': 516,\n",
       " 'quickly': 517,\n",
       " 'frozen': 518,\n",
       " 'behind': 519,\n",
       " 'checked': 520,\n",
       " 'serves': 521,\n",
       " 'boy': 522,\n",
       " 'honestly': 523,\n",
       " 'cafe': 524,\n",
       " 'pepper': 525,\n",
       " \"you're\": 526,\n",
       " 'familiar': 527,\n",
       " 'filling': 528,\n",
       " 'meals': 529,\n",
       " 'sub': 530,\n",
       " 'par': 531,\n",
       " 'strip': 532,\n",
       " 'belly': 533,\n",
       " 'find': 534,\n",
       " 'same': 535,\n",
       " 'ago': 536,\n",
       " 'although': 537,\n",
       " 'liked': 538,\n",
       " 'glad': 539,\n",
       " 'immediately': 540,\n",
       " 'guy': 541,\n",
       " 'focused': 542,\n",
       " 'reasonably': 543,\n",
       " 'priced': 544,\n",
       " 'later': 545,\n",
       " 'life': 546,\n",
       " 'crab': 547,\n",
       " 'legs': 548,\n",
       " 'evening': 549,\n",
       " 'watch': 550,\n",
       " 'stuff': 551,\n",
       " 'sucked': 552,\n",
       " 'min': 553,\n",
       " 'sitting': 554,\n",
       " 'ended': 555,\n",
       " 'shower': 556,\n",
       " 'mind': 557,\n",
       " 'beyond': 558,\n",
       " 'boba': 559,\n",
       " \"we'll\": 560,\n",
       " 'favorite': 561,\n",
       " 'trying': 562,\n",
       " 'serve': 563,\n",
       " 'world': 564,\n",
       " 'wow': 565,\n",
       " 'nicest': 566,\n",
       " 'chinese': 567,\n",
       " 'feeling': 568,\n",
       " 'treat': 569,\n",
       " 'coffee': 570,\n",
       " 'filet': 571,\n",
       " 'building': 572,\n",
       " 'though': 573,\n",
       " \"friend's\": 574,\n",
       " 'reviews': 575,\n",
       " 'part': 576,\n",
       " 'started': 577,\n",
       " 'bother': 578,\n",
       " 'favor': 579,\n",
       " 'completely': 580,\n",
       " \"we've\": 581,\n",
       " 'door': 582,\n",
       " 'set': 583,\n",
       " 'entrees': 584,\n",
       " 'mmmm': 585,\n",
       " 'mouth': 586,\n",
       " \"isn't\": 587,\n",
       " 'establishment': 588,\n",
       " 'bye': 589,\n",
       " 'lady': 590,\n",
       " 'music': 591,\n",
       " 'decorated': 592,\n",
       " 'comfortable': 593,\n",
       " 'believe': 594,\n",
       " 'steaks': 595,\n",
       " 'eaten': 596,\n",
       " 'others': 597,\n",
       " 'red': 598,\n",
       " 'curry': 599,\n",
       " '12': 600,\n",
       " 'pace': 601,\n",
       " 'longer': 602,\n",
       " 'does': 603,\n",
       " 'nachos': 604,\n",
       " 'crispy': 605,\n",
       " 'stepped': 606,\n",
       " 'spend': 607,\n",
       " 'plus': 608,\n",
       " 'thumbs': 609,\n",
       " 'disrespected': 610,\n",
       " 'pancakes': 611,\n",
       " 'mistake': 612,\n",
       " 'between': 613,\n",
       " 'human': 614,\n",
       " 'hair': 615,\n",
       " 'eggplant': 616,\n",
       " 'stir': 617,\n",
       " 'fry': 618,\n",
       " 'lost': 619,\n",
       " 'finish': 620,\n",
       " 'average': 621,\n",
       " 'hours': 622,\n",
       " 'seems': 623,\n",
       " 'bite': 624,\n",
       " 'pasta': 625,\n",
       " 'hand': 626,\n",
       " 'bathrooms': 627,\n",
       " 'overcooked': 628,\n",
       " 'last': 629,\n",
       " 'passed': 630,\n",
       " 'ask': 631,\n",
       " 'gross': 632,\n",
       " 'perfectly': 633,\n",
       " 'stopped': 634,\n",
       " 'late': 635,\n",
       " 'literally': 636,\n",
       " 'seated': 637,\n",
       " 'tots': 638,\n",
       " 'vegetarian': 639,\n",
       " 'work': 640,\n",
       " 'dealing': 641,\n",
       " 'single': 642,\n",
       " 'looking': 643,\n",
       " 'become': 644,\n",
       " 'yet': 645,\n",
       " 'puree': 646,\n",
       " 'water': 647,\n",
       " 'rolls': 648,\n",
       " 'batter': 649,\n",
       " 'overwhelmed': 650,\n",
       " 'non': 651,\n",
       " 'owner': 652,\n",
       " 'definately': 653,\n",
       " 'dog': 654,\n",
       " 'needs': 655,\n",
       " 'stayed': 656,\n",
       " 'point': 657,\n",
       " 'word': 658,\n",
       " 'toasted': 659,\n",
       " 'bagels': 660,\n",
       " 'selections': 661,\n",
       " 'top': 662,\n",
       " 'seemed': 663,\n",
       " 'undercooked': 664,\n",
       " 'cheap': 665,\n",
       " 'let': 666,\n",
       " 'wrap': 667,\n",
       " 'generous': 668,\n",
       " 'sides': 669,\n",
       " 'gold': 670,\n",
       " 'cashier': 671,\n",
       " 'stomach': 672,\n",
       " 'doubt': 673,\n",
       " 'offers': 674,\n",
       " 'crust': 675,\n",
       " 'watched': 676,\n",
       " 'boot': 677,\n",
       " 'amount': 678,\n",
       " 'half': 679,\n",
       " 'restaurants': 680,\n",
       " 'lacking': 681,\n",
       " 'black': 682,\n",
       " 'please': 683,\n",
       " 'anyway': 684,\n",
       " 'fly': 685,\n",
       " 'brick': 686,\n",
       " 'oven': 687,\n",
       " 'basically': 688,\n",
       " 'crowd': 689,\n",
       " 'big': 690,\n",
       " 'needed': 691,\n",
       " 'course': 692,\n",
       " 'none': 693,\n",
       " 'finally': 694,\n",
       " 'gave': 695,\n",
       " 'soggy': 696,\n",
       " 'assure': 697,\n",
       " 'bartender': 698,\n",
       " 'tapas': 699,\n",
       " 'recently': 700,\n",
       " 'yum': 701,\n",
       " 'however': 702,\n",
       " 'oh': 703,\n",
       " 'seating': 704,\n",
       " 'pleasant': 705,\n",
       " 'tuna': 706,\n",
       " 'boyfriend': 707,\n",
       " 'care': 708,\n",
       " 'total': 709,\n",
       " 'moist': 710,\n",
       " 'cant': 711,\n",
       " 'several': 712,\n",
       " 'helped': 713,\n",
       " 'car': 714,\n",
       " 'front': 715,\n",
       " 'flower': 716,\n",
       " 'sticks': 717,\n",
       " 'inexpensive': 718,\n",
       " 'grease': 719,\n",
       " '100': 720,\n",
       " 'driest': 721,\n",
       " 'hope': 722,\n",
       " 'promise': 723,\n",
       " 'stop': 724,\n",
       " 'bill': 725,\n",
       " 'ok': 726,\n",
       " 'eggs': 727,\n",
       " 'accomodate': 728,\n",
       " 'vegan': 729,\n",
       " 'veggie': 730,\n",
       " 'proven': 731,\n",
       " 'dead': 732,\n",
       " 'chefs': 733,\n",
       " 'showed': 734,\n",
       " 'climbing': 735,\n",
       " 'kitchen': 736,\n",
       " 'flair': 737,\n",
       " 'bartenders': 738,\n",
       " 'located': 739,\n",
       " 'crystals': 740,\n",
       " 'shopping': 741,\n",
       " 'aria': 742,\n",
       " 'awkward': 743,\n",
       " '5lb': 744,\n",
       " '4ths': 745,\n",
       " 'gristle': 746,\n",
       " 'fat': 747,\n",
       " 'privileged': 748,\n",
       " 'working': 749,\n",
       " 'liking': 750,\n",
       " 'number': 751,\n",
       " 'reasons': 752,\n",
       " 'reviewing': 753,\n",
       " 'airline': 754,\n",
       " 'quaint': 755,\n",
       " 'honest': 756,\n",
       " 'petty': 757,\n",
       " 'biscuit': 758,\n",
       " 'margaritas': 759,\n",
       " 'occasions': 760,\n",
       " 'medium': 761,\n",
       " 'bloodiest': 762,\n",
       " 'plate': 763,\n",
       " 'impressive': 764,\n",
       " \"hasn't\": 765,\n",
       " 'closed': 766,\n",
       " 'grandmother': 767,\n",
       " 'roasted': 768,\n",
       " 'level': 769,\n",
       " 'spice': 770,\n",
       " 'whelm': 771,\n",
       " 'flavors': 772,\n",
       " 'slaw': 773,\n",
       " 'drenched': 774,\n",
       " 'expert': 775,\n",
       " 'connisseur': 776,\n",
       " 'topic': 777,\n",
       " 'ians': 778,\n",
       " 'hopefully': 779,\n",
       " 'bodes': 780,\n",
       " 'greasy': 781,\n",
       " 'unhealthy': 782,\n",
       " 'parents': 783,\n",
       " 'most': 784,\n",
       " 'complaints': 785,\n",
       " 'silently': 786,\n",
       " 'rotating': 787,\n",
       " 'beers': 788,\n",
       " 'highlight': 789,\n",
       " 'venture': 790,\n",
       " 'further': 791,\n",
       " 'excalibur': 792,\n",
       " 'common': 793,\n",
       " 'sense': 794,\n",
       " 'mac': 795,\n",
       " 'peanut': 796,\n",
       " 'brisket': 797,\n",
       " 'consider': 798,\n",
       " 'theft': 799,\n",
       " 'pleased': 800,\n",
       " 'lovely': 801,\n",
       " 'duo': 802,\n",
       " 'violinists': 803,\n",
       " 'songs': 804,\n",
       " 'requested': 805,\n",
       " 'hilarious': 806,\n",
       " 'christmas': 807,\n",
       " 'eve': 808,\n",
       " 'remember': 809,\n",
       " 'biggest': 810,\n",
       " 'fail': 811,\n",
       " 'entire': 812,\n",
       " 'spaghetti': 813,\n",
       " 'whatsoever': 814,\n",
       " 'tough': 815,\n",
       " 'short': 816,\n",
       " 'doughy': 817,\n",
       " 'biscuits': 818,\n",
       " 'cause': 819,\n",
       " 'owned': 820,\n",
       " 'bought': 821,\n",
       " 'vomited': 822,\n",
       " \"carly's\": 823,\n",
       " 'neighborhood': 824,\n",
       " 'gem': 825,\n",
       " 'arrives': 826,\n",
       " 'changing': 827,\n",
       " 'attached': 828,\n",
       " 'gas': 829,\n",
       " 'sign': 830,\n",
       " 'pale': 831,\n",
       " 'instead': 832,\n",
       " 'char': 833,\n",
       " 'weird': 834,\n",
       " 'forty': 835,\n",
       " 'five': 836,\n",
       " 'vain': 837,\n",
       " 'chains': 838,\n",
       " 'easily': 839,\n",
       " 'dollars': 840,\n",
       " 'nargile': 841,\n",
       " 'crowds': 842,\n",
       " 'juries': 843,\n",
       " 'lawyers': 844,\n",
       " 'court': 845,\n",
       " 'flavourful': 846,\n",
       " 'realized': 847,\n",
       " 'pucks': 848,\n",
       " 'disgust': 849,\n",
       " 'register': 850,\n",
       " 'buffets': 851,\n",
       " 'del': 852,\n",
       " 'taco': 853,\n",
       " 'nasty': 854,\n",
       " 'avoided': 855,\n",
       " 'multiple': 856,\n",
       " 'ignored': 857,\n",
       " 'hostess': 858,\n",
       " 'myself': 859,\n",
       " 'seen': 860,\n",
       " '00': 861,\n",
       " 'sucker': 862,\n",
       " 'six': 863,\n",
       " 'inch': 864,\n",
       " 'wire': 865,\n",
       " 'crepe': 866,\n",
       " 'shocked': 867,\n",
       " 'signs': 868,\n",
       " 'indicate': 869,\n",
       " 'cash': 870,\n",
       " 'hardest': 871,\n",
       " 'decision': 872,\n",
       " \"m's\": 873,\n",
       " 'supposed': 874,\n",
       " 'han': 875,\n",
       " 'nan': 876,\n",
       " 'star': 877,\n",
       " '90': 878,\n",
       " 'refried': 879,\n",
       " 'dried': 880,\n",
       " 'crusty': 881,\n",
       " 'sergeant': 882,\n",
       " 'auju': 883,\n",
       " 'bakery': 884,\n",
       " 'leftover': 885,\n",
       " 'conclusion': 886,\n",
       " 'offered': 887,\n",
       " 'sunday': 888,\n",
       " 'based': 889,\n",
       " 'effort': 890,\n",
       " 'show': 891,\n",
       " 'gratitude': 892,\n",
       " 'venturing': 893,\n",
       " 'highlighted': 894,\n",
       " 'unique': 895,\n",
       " 'beautiful': 896,\n",
       " 'setting': 897,\n",
       " 'wasting': 898,\n",
       " 'despicable': 899,\n",
       " 'maria': 900,\n",
       " 'brother': 901,\n",
       " 'law': 902,\n",
       " 'works': 903,\n",
       " 'years': 904,\n",
       " 'fav': 905,\n",
       " 'ample': 906,\n",
       " 'airport': 907,\n",
       " 'speedy': 908,\n",
       " 'sound': 909,\n",
       " 'actual': 910,\n",
       " 'typical': 911,\n",
       " 'prompt': 912,\n",
       " 'convenient': 913,\n",
       " 'staying': 914,\n",
       " 'mgm': 915,\n",
       " 'doing': 916,\n",
       " 'shots': 917,\n",
       " 'fireball': 918,\n",
       " 'summary': 919,\n",
       " 'largely': 920,\n",
       " 'workers': 921,\n",
       " 'surprised': 922,\n",
       " 'article': 923,\n",
       " 'read': 924,\n",
       " 'spices': 925,\n",
       " 'diverse': 926,\n",
       " 'disbelief': 927,\n",
       " 'qualified': 928,\n",
       " 'version': 929,\n",
       " 'foods': 930,\n",
       " 'months': 931,\n",
       " 'returned': 932,\n",
       " 'limited': 933,\n",
       " 'boiled': 934,\n",
       " 'cocktails': 935,\n",
       " 'handmade': 936,\n",
       " 'ensued': 937,\n",
       " 'drastically': 938,\n",
       " 'poorly': 939,\n",
       " 'constructed': 940,\n",
       " 'dont': 941,\n",
       " 'sporting': 942,\n",
       " 'events': 943,\n",
       " 'walls': 944,\n",
       " 'covered': 945,\n",
       " \"tv's\": 946,\n",
       " 'decide': 947,\n",
       " 'highlights': 948,\n",
       " 'nigiri': 949,\n",
       " 'serivce': 950,\n",
       " 'correction': 951,\n",
       " 'heimer': 952,\n",
       " 'milkshake': 953,\n",
       " 'chocolate': 954,\n",
       " 'milk': 955,\n",
       " 'fairly': 956,\n",
       " '40': 957,\n",
       " 'thoroughly': 958,\n",
       " 'rinse': 959,\n",
       " 'nude': 960,\n",
       " 'chow': 961,\n",
       " 'mein': 962,\n",
       " 'included': 963,\n",
       " 'tastings': 964,\n",
       " 'jeff': 965,\n",
       " 'above': 966,\n",
       " 'expected': 967,\n",
       " 'dedicated': 968,\n",
       " 'spots': 969,\n",
       " 'jenni': 970,\n",
       " 'plethora': 971,\n",
       " 'salads': 972,\n",
       " 'sandwiches': 973,\n",
       " 'gets': 974,\n",
       " 'seal': 975,\n",
       " 'approval': 976,\n",
       " 'bouchon': 977,\n",
       " 'disgrace': 978,\n",
       " 'saving': 979,\n",
       " 'room': 980,\n",
       " 'strawberry': 981,\n",
       " 'whole': 982,\n",
       " 'underwhelming': 983,\n",
       " 'ninja': 984,\n",
       " 'honeslty': 985,\n",
       " 'shawarrrrrrma': 986,\n",
       " 'suffers': 987,\n",
       " 'unprofessional': 988,\n",
       " 'loyal': 989,\n",
       " 'patron': 990,\n",
       " 'indian': 991,\n",
       " 'naan': 992,\n",
       " 'pine': 993,\n",
       " 'nut': 994,\n",
       " 'guest': 995,\n",
       " 'self': 996,\n",
       " 'proclaimed': 997,\n",
       " 'wildly': 998,\n",
       " 'weak': 999,\n",
       " 'sals': 1000,\n",
       " ...}"
      ]
     },
     "execution_count": 68,
     "metadata": {},
     "output_type": "execute_result"
    }
   ],
   "source": [
    "print(len(tokenizer.word_index))\n",
    "tokenizer.word_index"
   ]
  },
  {
   "cell_type": "markdown",
   "metadata": {},
   "source": [
    "**Note:** Pay close attention to the difference between this technique and the X_train that was produced by scikit-learn’s CountVectorizer.\n",
    "\n",
    "With CountVectorizer, we had stacked vectors of word counts, and each vector was the same length (the size of the total corpus vocabulary). With Tokenizer, the resulting vectors equal the length of each text, and the numbers don’t denote counts, but rather correspond to the word values from the dictionary tokenizer.word_index."
   ]
  },
  {
   "cell_type": "markdown",
   "metadata": {},
   "source": [
    "One problem that we have is that **each text** sequence **has different length of words**. To counter this, you can use `pad_sequence` which simply pads the sequence of words with zeros. By default, it prepends zeros but we want to append them. Typically it does not matter whether you prepend or append zeros."
   ]
  },
  {
   "cell_type": "code",
   "execution_count": 70,
   "metadata": {},
   "outputs": [],
   "source": [
    "from tensorflow.keras.preprocessing.sequence import pad_sequences"
   ]
  },
  {
   "cell_type": "code",
   "execution_count": 84,
   "metadata": {},
   "outputs": [],
   "source": [
    "vocab_size = len(tokenizer.word_index) + 1   # Adding 1 because it starts with 0\n",
    "max_words = 10000\n",
    "max_len = 100   # maximum length of the reviews\n",
    "embedding_dim = 50   # number of components of the embedding vector"
   ]
  },
  {
   "cell_type": "code",
   "execution_count": 74,
   "metadata": {},
   "outputs": [],
   "source": [
    "X_train = pad_sequences(X_train, padding='post', maxlen=max_len)\n",
    "X_test = pad_sequences(X_test, padding='post', maxlen=max_len)"
   ]
  },
  {
   "cell_type": "code",
   "execution_count": 81,
   "metadata": {},
   "outputs": [
    {
     "name": "stdout",
     "output_type": "stream",
     "text": [
      "100\n"
     ]
    },
    {
     "data": {
      "text/plain": [
       "array([ 8,  7,  5, 23, 15,  6, 97,  0,  0,  0,  0,  0,  0,  0,  0,  0,  0,\n",
       "        0,  0,  0,  0,  0,  0,  0,  0,  0,  0,  0,  0,  0,  0,  0,  0,  0,\n",
       "        0,  0,  0,  0,  0,  0,  0,  0,  0,  0,  0,  0,  0,  0,  0,  0,  0,\n",
       "        0,  0,  0,  0,  0,  0,  0,  0,  0,  0,  0,  0,  0,  0,  0,  0,  0,\n",
       "        0,  0,  0,  0,  0,  0,  0,  0,  0,  0,  0,  0,  0,  0,  0,  0,  0,\n",
       "        0,  0,  0,  0,  0,  0,  0,  0,  0,  0,  0,  0,  0,  0,  0])"
      ]
     },
     "execution_count": 81,
     "metadata": {},
     "output_type": "execute_result"
    }
   ],
   "source": [
    "print(len(X_train[2]))\n",
    "X_train[2]"
   ]
  },
  {
   "cell_type": "code",
   "execution_count": 92,
   "metadata": {},
   "outputs": [],
   "source": [
    "clear_session()"
   ]
  },
  {
   "cell_type": "code",
   "execution_count": 93,
   "metadata": {},
   "outputs": [],
   "source": [
    "model = models.Sequential()\n",
    "\n",
    "model.add(layers.Embedding(input_dim=vocab_size,\n",
    "                           output_dim=embedding_dim,\n",
    "                           input_length=max_len))\n",
    "model.add(layers.Flatten())\n",
    "model.add(layers.Dense(10, activation='relu'))\n",
    "model.add(layers.Dense(1, activation='sigmoid'))"
   ]
  },
  {
   "cell_type": "code",
   "execution_count": 94,
   "metadata": {},
   "outputs": [
    {
     "name": "stdout",
     "output_type": "stream",
     "text": [
      "Model: \"sequential\"\n",
      "_________________________________________________________________\n",
      "Layer (type)                 Output Shape              Param #   \n",
      "=================================================================\n",
      "embedding (Embedding)        (None, 100, 50)           87450     \n",
      "_________________________________________________________________\n",
      "flatten (Flatten)            (None, 5000)              0         \n",
      "_________________________________________________________________\n",
      "dense (Dense)                (None, 10)                50010     \n",
      "_________________________________________________________________\n",
      "dense_1 (Dense)              (None, 1)                 11        \n",
      "=================================================================\n",
      "Total params: 137,471\n",
      "Trainable params: 137,471\n",
      "Non-trainable params: 0\n",
      "_________________________________________________________________\n"
     ]
    }
   ],
   "source": [
    "model.compile(loss='binary_crossentropy',\n",
    "              optimizer='adam',\n",
    "              metrics=['accuracy'])\n",
    "model.summary()"
   ]
  },
  {
   "cell_type": "code",
   "execution_count": 95,
   "metadata": {},
   "outputs": [
    {
     "name": "stdout",
     "output_type": "stream",
     "text": [
      "Train on 675 samples, validate on 75 samples\n",
      "Epoch 1/20\n",
      "675/675 [==============================] - 0s 671us/sample - loss: 0.6936 - acc: 0.4815 - val_loss: 0.6931 - val_acc: 0.5467\n",
      "Epoch 2/20\n",
      "675/675 [==============================] - 0s 325us/sample - loss: 0.6932 - acc: 0.4948 - val_loss: 0.6933 - val_acc: 0.4533\n",
      "Epoch 3/20\n",
      "675/675 [==============================] - 0s 346us/sample - loss: 0.6932 - acc: 0.5037 - val_loss: 0.6933 - val_acc: 0.4533\n",
      "Epoch 4/20\n",
      "675/675 [==============================] - 0s 288us/sample - loss: 0.6931 - acc: 0.5037 - val_loss: 0.6935 - val_acc: 0.4533\n",
      "Epoch 5/20\n",
      "675/675 [==============================] - 0s 319us/sample - loss: 0.6932 - acc: 0.5037 - val_loss: 0.6935 - val_acc: 0.4533\n",
      "Epoch 6/20\n",
      "675/675 [==============================] - 0s 331us/sample - loss: 0.6932 - acc: 0.5037 - val_loss: 0.6934 - val_acc: 0.4533\n",
      "Epoch 7/20\n",
      "675/675 [==============================] - 0s 320us/sample - loss: 0.6932 - acc: 0.5037 - val_loss: 0.6938 - val_acc: 0.4533\n",
      "Epoch 8/20\n",
      "675/675 [==============================] - 0s 351us/sample - loss: 0.6931 - acc: 0.5037 - val_loss: 0.6936 - val_acc: 0.4533\n",
      "Epoch 9/20\n",
      "675/675 [==============================] - 0s 269us/sample - loss: 0.6932 - acc: 0.5037 - val_loss: 0.6937 - val_acc: 0.4533\n",
      "Epoch 10/20\n",
      "675/675 [==============================] - 0s 290us/sample - loss: 0.6932 - acc: 0.5037 - val_loss: 0.6936 - val_acc: 0.4533\n",
      "Epoch 11/20\n",
      "675/675 [==============================] - 0s 309us/sample - loss: 0.6931 - acc: 0.5037 - val_loss: 0.6936 - val_acc: 0.4533\n",
      "Epoch 12/20\n",
      "675/675 [==============================] - 0s 274us/sample - loss: 0.6932 - acc: 0.5037 - val_loss: 0.6937 - val_acc: 0.4533\n",
      "Epoch 13/20\n",
      "675/675 [==============================] - 0s 302us/sample - loss: 0.6932 - acc: 0.5037 - val_loss: 0.6938 - val_acc: 0.4533\n",
      "Epoch 14/20\n",
      "675/675 [==============================] - 0s 320us/sample - loss: 0.6931 - acc: 0.5037 - val_loss: 0.6937 - val_acc: 0.4533\n",
      "Epoch 15/20\n",
      "675/675 [==============================] - 0s 345us/sample - loss: 0.6932 - acc: 0.5037 - val_loss: 0.6937 - val_acc: 0.4533\n",
      "Epoch 16/20\n",
      "675/675 [==============================] - 0s 314us/sample - loss: 0.6931 - acc: 0.5037 - val_loss: 0.6937 - val_acc: 0.4533\n",
      "Epoch 17/20\n",
      "675/675 [==============================] - 0s 285us/sample - loss: 0.6932 - acc: 0.5037 - val_loss: 0.6937 - val_acc: 0.4533\n",
      "Epoch 18/20\n",
      "675/675 [==============================] - 0s 289us/sample - loss: 0.6932 - acc: 0.5037 - val_loss: 0.6937 - val_acc: 0.4533\n",
      "Epoch 19/20\n",
      "675/675 [==============================] - 0s 302us/sample - loss: 0.6932 - acc: 0.5037 - val_loss: 0.6938 - val_acc: 0.4533\n",
      "Epoch 20/20\n",
      "675/675 [==============================] - 0s 322us/sample - loss: 0.6932 - acc: 0.5037 - val_loss: 0.6939 - val_acc: 0.4533\n"
     ]
    }
   ],
   "source": [
    "history = model.fit(X_train, y_train, epochs=20, batch_size=10, validation_split=0.1)"
   ]
  },
  {
   "cell_type": "code",
   "execution_count": 97,
   "metadata": {},
   "outputs": [
    {
     "name": "stdout",
     "output_type": "stream",
     "text": [
      "250/250 [==============================] - 0s 67us/sample - loss: 0.6931 - acc: 0.5040\n"
     ]
    },
    {
     "data": {
      "text/plain": [
       "(0.6931154150962829, 0.504)"
      ]
     },
     "execution_count": 97,
     "metadata": {},
     "output_type": "execute_result"
    }
   ],
   "source": [
    "loss, acc = model.evaluate(X_test, y_test)\n",
    "loss, acc"
   ]
  },
  {
   "cell_type": "code",
   "execution_count": 98,
   "metadata": {},
   "outputs": [
    {
     "data": {
      "image/png": "[encoded data removed]",
      "text/plain": [
       "<Figure size 864x360 with 2 Axes>"
      ]
     },
     "metadata": {
      "needs_background": "light"
     },
     "output_type": "display_data"
    }
   ],
   "source": [
    "plot_history(history)"
   ]
  },
  {
   "cell_type": "code",
   "execution_count": 1,
   "metadata": {},
   "outputs": [],
   "source": [
    "# Really bad result. Probably due to the short size of our data sets."
   ]
  },
  {
   "cell_type": "code",
   "execution_count": null,
   "metadata": {},
   "outputs": [],
   "source": []
  },
  {
   "cell_type": "code",
   "execution_count": null,
   "metadata": {},
   "outputs": [],
   "source": []
  }
 ],
 "metadata": {
  "kernelspec": {
   "display_name": "Python 3",
   "language": "python",
   "name": "python3"
  },
  "language_info": {
   "codemirror_mode": {
    "name": "ipython",
    "version": 3
   },
   "file_extension": ".py",
   "mimetype": "text/x-python",
   "name": "python",
   "nbconvert_exporter": "python",
   "pygments_lexer": "ipython3",
   "version": "3.7.4"
  }
 },
 "nbformat": 4,
 "nbformat_minor": 2
}
